{
 "cells": [
  {
   "cell_type": "code",
   "execution_count": 1,
   "metadata": {},
   "outputs": [
    {
     "name": "stdout",
     "output_type": "stream",
     "text": [
      "Enter your age 15\n",
      "You are not eligible\n"
     ]
    }
   ],
   "source": [
    "age = int(input(\"Enter your age \"))\n",
    "if age >= 18 :\n",
    "    print(\"You are eligible\")\n",
    "else :\n",
    "    print(\"You are not eligible\")"
   ]
  },
  {
   "cell_type": "code",
   "execution_count": 13,
   "metadata": {},
   "outputs": [
    {
     "name": "stdout",
     "output_type": "stream",
     "text": [
      "Enter first value7\n",
      "Enter second value9\n",
      "Enter operator+\n"
     ]
    },
    {
     "ename": "ValueError",
     "evalue": "invalid literal for int() with base 10: '+'",
     "output_type": "error",
     "traceback": [
      "\u001b[1;31m---------------------------------------------------------------------------\u001b[0m",
      "\u001b[1;31mValueError\u001b[0m                                Traceback (most recent call last)",
      "\u001b[1;32m<ipython-input-13-134d736d7667>\u001b[0m in \u001b[0;36m<module>\u001b[1;34m\u001b[0m\n\u001b[0;32m      2\u001b[0m \u001b[0mval2\u001b[0m \u001b[1;33m=\u001b[0m \u001b[0minput\u001b[0m\u001b[1;33m(\u001b[0m\u001b[1;34m\"Enter second value\"\u001b[0m\u001b[1;33m)\u001b[0m\u001b[1;33m\u001b[0m\u001b[1;33m\u001b[0m\u001b[0m\n\u001b[0;32m      3\u001b[0m \u001b[1;33m\u001b[0m\u001b[0m\n\u001b[1;32m----> 4\u001b[1;33m \u001b[0mopearator\u001b[0m \u001b[1;33m=\u001b[0m \u001b[0mint\u001b[0m\u001b[1;33m(\u001b[0m\u001b[0minput\u001b[0m\u001b[1;33m(\u001b[0m\u001b[1;34m\"Enter operator\"\u001b[0m\u001b[1;33m)\u001b[0m\u001b[1;33m)\u001b[0m\u001b[1;33m\u001b[0m\u001b[1;33m\u001b[0m\u001b[0m\n\u001b[0m\u001b[0;32m      5\u001b[0m \u001b[1;32mif\u001b[0m \u001b[0mopearator\u001b[0m \u001b[1;33m==\u001b[0m \u001b[1;34m'+'\u001b[0m \u001b[1;33m:\u001b[0m\u001b[1;33m\u001b[0m\u001b[1;33m\u001b[0m\u001b[0m\n\u001b[0;32m      6\u001b[0m     \u001b[0mval\u001b[0m \u001b[1;33m=\u001b[0m \u001b[0mval1\u001b[0m \u001b[1;33m+\u001b[0m \u001b[0mval2\u001b[0m\u001b[1;33m\u001b[0m\u001b[1;33m\u001b[0m\u001b[0m\n",
      "\u001b[1;31mValueError\u001b[0m: invalid literal for int() with base 10: '+'"
     ]
    }
   ],
   "source": [
    "val1 = input(\"Enter first value\")\n",
    "val2 = input(\"Enter second value\")\n",
    "\n",
    "opearator = int(input(\"Enter operator\"))\n",
    "if opearator == '+' :\n",
    "    val = val1 + val2 \n",
    "    print(val,\"answer\")\n",
    "elif operator == '-' :\n",
    "    val = val1 + val2 \n",
    "    print(val,\"answer\")\n",
    "elif operator == '*' :\n",
    "    val = val1 * val2 \n",
    "    print(val,\"answer\")\n",
    "elif operator == '/' :\n",
    "    val = val1 / val2 \n",
    "    print(val,\"answer\")\n",
    "else :\n",
    "    print(\" add valid operator\")"
   ]
  },
  {
   "cell_type": "code",
   "execution_count": 21,
   "metadata": {},
   "outputs": [
    {
     "name": "stdout",
     "output_type": "stream",
     "text": [
      "Enter first value5\n",
      "Enter second value6\n",
      "Enter operator/\n",
      "0.8333333333333334 answer\n"
     ]
    }
   ],
   "source": [
    "val1 = input(\"Enter first value\")\n",
    "val2 = input(\"Enter second value\")\n",
    "operator = input(\"Enter operator\")\n",
    "val1 = int(val1)\n",
    "val2 = int(val2)\n",
    "\n",
    "if operator == '+' :\n",
    "    val = val1 + val2\n",
    "    print(val,\"answer\")\n",
    "elif operator == '-' :\n",
    "    val = val1 - val2 \n",
    "    print(val,\"answer\")\n",
    "elif operator == '*' :\n",
    "    val = val1 * val2\n",
    "    print(val,\"answer\")\n",
    "elif operator == '/' :\n",
    "    val = val1 / val2 \n",
    "    print(val,\"answer\")\n",
    "else :\n",
    "    print(\"please enter a valid operatror\")\n",
    "\n"
   ]
  },
  {
   "cell_type": "code",
   "execution_count": 22,
   "metadata": {},
   "outputs": [
    {
     "name": "stdout",
     "output_type": "stream",
     "text": [
      "karachi\n",
      "Hyderabad\n",
      "Nawabshah\n",
      "Sukkur\n",
      "khairpur\n"
     ]
    }
   ],
   "source": [
    "cleanest_cities = [\"karachi\",\"Hyderabad\",\"Nawabshah\",\"Sukkur\",\"khairpur\"]\n",
    "for a_clean_city in cleanest_cities :\n",
    "    print(a_clean_city)"
   ]
  },
  {
   "cell_type": "code",
   "execution_count": null,
   "metadata": {},
   "outputs": [],
   "source": [
    "cleanest_cities = [\"karachi\",\"Hyderabad\",\"Nawabshah\",\"Sukkur\",\"khairpur\"]\n",
    "val = input(\"enter city\")\n",
    "for qadeer in cleanest_cities :\n",
    "    if val == qadeer :\n",
    "        print(\"This is a cleanest city\")\n",
    "         \n",
    "    else :\n",
    "        print(\"This is not cleanest city\")\n",
    "        break"
   ]
  },
  {
   "cell_type": "code",
   "execution_count": null,
   "metadata": {},
   "outputs": [],
   "source": [
    "cleanest_cities = [\"karachi\",\"Hyderabad\",\"Nawabshah\",\"Sukkur\",\"khairpur\"]\n",
    "val = input(\"enter city\")\n",
    "for qadeer in cleanest_cities :\n",
    "    if val == qadeer :\n",
    "        print(\"This is a cleanest city\")\n",
    "         \n",
    "    else :\n",
    "        print(\"This is not cleanest city\")\n",
    "        break"
   ]
  },
  {
   "cell_type": "code",
   "execution_count": 34,
   "metadata": {},
   "outputs": [
    {
     "ename": "IndexError",
     "evalue": "list index out of range",
     "output_type": "error",
     "traceback": [
      "\u001b[1;31m---------------------------------------------------------------------------\u001b[0m",
      "\u001b[1;31mIndexError\u001b[0m                                Traceback (most recent call last)",
      "\u001b[1;32m<ipython-input-34-141a436bf538>\u001b[0m in \u001b[0;36m<module>\u001b[1;34m\u001b[0m\n\u001b[1;32m----> 1\u001b[1;33m \u001b[0mtp\u001b[0m\u001b[1;33m[\u001b[0m\u001b[1;36m1\u001b[0m\u001b[1;33m]\u001b[0m\u001b[1;33m\u001b[0m\u001b[1;33m\u001b[0m\u001b[0m\n\u001b[0m",
      "\u001b[1;31mIndexError\u001b[0m: list index out of range"
     ]
    }
   ],
   "source": []
  },
  {
   "cell_type": "code",
   "execution_count": null,
   "metadata": {},
   "outputs": [],
   "source": [
    "cleanest_cities = [\"karachi\",\"Hyderabad\",\"Nawabshah\",\"Sukkur\",\"khairpur\"]\n",
    "val = input(\"enter city\")\n",
    "for qadeer in cleanest_cities :\n",
    "    if val == qadeer :\n",
    "        print(\"This is a cleanest city\")\n",
    "         \n",
    "    else :\n",
    "        print(\"This is not cleanest city\")\n",
    "        break"
   ]
  },
  {
   "cell_type": "code",
   "execution_count": null,
   "metadata": {},
   "outputs": [],
   "source": []
  }
 ],
 "metadata": {
  "kernelspec": {
   "display_name": "Python 3",
   "language": "python",
   "name": "python3"
  },
  "language_info": {
   "codemirror_mode": {
    "name": "ipython",
    "version": 3
   },
   "file_extension": ".py",
   "mimetype": "text/x-python",
   "name": "python",
   "nbconvert_exporter": "python",
   "pygments_lexer": "ipython3",
   "version": "3.7.3"
  }
 },
 "nbformat": 4,
 "nbformat_minor": 2
}
