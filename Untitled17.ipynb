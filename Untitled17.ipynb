{
 "cells": [
  {
   "cell_type": "code",
   "execution_count": 5,
   "metadata": {},
   "outputs": [
    {
     "ename": "SyntaxError",
     "evalue": "invalid syntax (<ipython-input-5-c6c8f2a3026e>, line 4)",
     "output_type": "error",
     "traceback": [
      "\u001b[1;36m  File \u001b[1;32m\"<ipython-input-5-c6c8f2a3026e>\"\u001b[1;36m, line \u001b[1;32m4\u001b[0m\n\u001b[1;33m    else:\u001b[0m\n\u001b[1;37m       ^\u001b[0m\n\u001b[1;31mSyntaxError\u001b[0m\u001b[1;31m:\u001b[0m invalid syntax\n"
     ]
    }
   ],
   "source": [
    "age = int(input(\"Enter your age \"))\n",
    "if age >= 18 :\n",
    "    print(\"You are allowed to ride\")\n",
    "    else:\n",
    "        print(\"you are not allowed to ride\")"
   ]
  },
  {
   "cell_type": "code",
   "execution_count": 9,
   "metadata": {},
   "outputs": [
    {
     "ename": "SyntaxError",
     "evalue": "invalid syntax (<ipython-input-9-d555ac6e640f>, line 4)",
     "output_type": "error",
     "traceback": [
      "\u001b[1;36m  File \u001b[1;32m\"<ipython-input-9-d555ac6e640f>\"\u001b[1;36m, line \u001b[1;32m4\u001b[0m\n\u001b[1;33m    elif per>= 70 :\u001b[0m\n\u001b[1;37m       ^\u001b[0m\n\u001b[1;31mSyntaxError\u001b[0m\u001b[1;31m:\u001b[0m invalid syntax\n"
     ]
    }
   ],
   "source": [
    "per = int(input(\"enter your percentage\"))\n",
    "if per >= 80 :\n",
    "    print(\"A+\")\n",
    "    elif per>= 70 :\n",
    "        print(\"A\")\n",
    "        elif per >= 60 :\n",
    "            print(\"B\")\n",
    "            elif per >=50 :\n",
    "                print(\"Fail\")\n",
    "                else :\n",
    "                    print(\"invalid input\")\n",
    "                    "
   ]
  },
  {
   "cell_type": "code",
   "execution_count": 10,
   "metadata": {},
   "outputs": [
    {
     "ename": "SyntaxError",
     "evalue": "unexpected character after line continuation character (<ipython-input-10-ad33b92b5cb1>, line 17)",
     "output_type": "error",
     "traceback": [
      "\u001b[1;36m  File \u001b[1;32m\"<ipython-input-10-ad33b92b5cb1>\"\u001b[1;36m, line \u001b[1;32m17\u001b[0m\n\u001b[1;33m    print(\"Please select operation -\\n\" \\\u001b[0m\n\u001b[1;37m                                          ^\u001b[0m\n\u001b[1;31mSyntaxError\u001b[0m\u001b[1;31m:\u001b[0m unexpected character after line continuation character\n"
     ]
    }
   ],
   "source": [
    "  \n",
    "# Function to add two numbers  \n",
    "def add(num1, num2): \n",
    "    return num1 + num2 \n",
    "  \n",
    "# Function to subtract two numbers  \n",
    "def subtract(num1, num2): \n",
    "    return num1 - num2 \n",
    "  \n",
    "# Function to multiply two numbers \n",
    "def multiply(num1, num2): \n",
    "    return num1 * num2 \n",
    "  \n",
    "# Function to divide two numbers \n",
    "def divide(num1, num2): \n",
    "    return num1 / num2 \n",
    "  \n",
    "print(\"Please select operation -\\n\" \\ \n",
    "        \"1. Add\\n\" \\ \n",
    "        \"2. Subtract\\n\" \\ \n",
    "        \"3. Multiply\\n\" \\ \n",
    "        \"4. Divide\\n\") \n",
    "  \n",
    "  \n",
    "# Take input from the user  \n",
    "select = input(\"Select operations form 1, 2, 3, 4 :\") \n",
    "  \n",
    "number_1 = int(input(\"Enter first number: \")) \n",
    "number_2 = int(input(\"Enter second number: \")) \n",
    "  \n",
    "if select == '1': \n",
    "    print(number_1, \"+\", number_2, \"=\", \n",
    "                    add(number_1, number_2)) \n",
    "  \n",
    "elif select == '2': \n",
    "    print(number_1, \"-\", number_2, \"=\", \n",
    "                    subtract(number_1, number_2)) \n",
    "  \n",
    "elif select == '3': \n",
    "    print(number_1, \"*\", number_2, \"=\", \n",
    "                    multiply(number_1, number_2)) \n",
    "  \n",
    "elif select == '4': \n",
    "    print(number_1, \"/\", number_2, \"=\", \n",
    "                    divide(number_1, number_2)) \n",
    "else: \n",
    "    print(\"Invalid input\") \n"
   ]
  },
  {
   "cell_type": "code",
   "execution_count": null,
   "metadata": {},
   "outputs": [],
   "source": []
  }
 ],
 "metadata": {
  "kernelspec": {
   "display_name": "Python 3",
   "language": "python",
   "name": "python3"
  },
  "language_info": {
   "codemirror_mode": {
    "name": "ipython",
    "version": 3
   },
   "file_extension": ".py",
   "mimetype": "text/x-python",
   "name": "python",
   "nbconvert_exporter": "python",
   "pygments_lexer": "ipython3",
   "version": "3.7.3"
  }
 },
 "nbformat": 4,
 "nbformat_minor": 2
}
