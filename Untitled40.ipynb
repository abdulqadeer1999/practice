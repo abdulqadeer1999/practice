{
 "cells": [
  {
   "cell_type": "code",
   "execution_count": 4,
   "metadata": {},
   "outputs": [
    {
     "name": "stdout",
     "output_type": "stream",
     "text": [
      "10\n"
     ]
    }
   ],
   "source": [
    "def addnum():\n",
    "    firstnum= 3\n",
    "    secondnum= 7\n",
    "    total = firstnum + secondnum\n",
    "    print(total)\n",
    "addnum()    "
   ]
  },
  {
   "cell_type": "code",
   "execution_count": 9,
   "metadata": {},
   "outputs": [
    {
     "name": "stdout",
     "output_type": "stream",
     "text": [
      "40\n"
     ]
    }
   ],
   "source": [
    "def addnum(firstnum,secondnum):\n",
    "           total = firstnum + secondnum\n",
    "           print(total)\n",
    "addnum(20,20)        "
   ]
  },
  {
   "cell_type": "code",
   "execution_count": 17,
   "metadata": {},
   "outputs": [
    {
     "name": "stdout",
     "output_type": "stream",
     "text": [
      "96\n"
     ]
    }
   ],
   "source": [
    "def addnum(firstnum,secondnum):\n",
    "     total = firstnum + secondnum \n",
    "     print(total)\n",
    "firstnum = 20\n",
    "secondnum = 76\n",
    "addnum(firstnum,secondnum)"
   ]
  },
  {
   "cell_type": "code",
   "execution_count": 20,
   "metadata": {},
   "outputs": [
    {
     "name": "stdout",
     "output_type": "stream",
     "text": [
      "56\n"
     ]
    }
   ],
   "source": [
    "def addnum(firstnum,secondnum):\n",
    "     total = firstnum - secondnum \n",
    "     print(total)\n",
    "firstnum = 20\n",
    "secondnum = 76\n",
    "addnum(secondnum,firstnum)"
   ]
  },
  {
   "cell_type": "code",
   "execution_count": 21,
   "metadata": {},
   "outputs": [
    {
     "name": "stdout",
     "output_type": "stream",
     "text": [
      "56\n"
     ]
    }
   ],
   "source": [
    "def addnum(num1,num2):\n",
    "     total = num1 - num2\n",
    "     print(total)\n",
    "firstnum = 20\n",
    "secondnum = 76\n",
    "addnum(secondnum,firstnum)"
   ]
  },
  {
   "cell_type": "code",
   "execution_count": 22,
   "metadata": {},
   "outputs": [
    {
     "name": "stdout",
     "output_type": "stream",
     "text": [
      "56\n"
     ]
    }
   ],
   "source": [
    "#globally available firstnum and secondnum\n",
    "firstnum = 20\n",
    "secondnum = 76\n",
    "\n",
    "def addnum(num1,num2):\n",
    "     total = num1 - num2\n",
    "     print(total)\n",
    "\n",
    "addnum(secondnum,firstnum)"
   ]
  },
  {
   "cell_type": "code",
   "execution_count": 27,
   "metadata": {},
   "outputs": [
    {
     "name": "stdout",
     "output_type": "stream",
     "text": [
      "30\n"
     ]
    }
   ],
   "source": [
    "def addnum(firstnum,secondnum):\n",
    "     total = firstnum + secondnum\n",
    "     print(total)\n",
    "\n",
    "addnum(firstnum = 20,secondnum = 10)"
   ]
  },
  {
   "cell_type": "code",
   "execution_count": 30,
   "metadata": {},
   "outputs": [
    {
     "name": "stdout",
     "output_type": "stream",
     "text": [
      "96\n"
     ]
    }
   ],
   "source": [
    "def addnum(firstnum = 19,secondnum = 10):\n",
    "     total = firstnum + secondnum\n",
    "     print(total)\n",
    "\n",
    "addnum(firstnum ,secondnum)"
   ]
  },
  {
   "cell_type": "code",
   "execution_count": 32,
   "metadata": {},
   "outputs": [
    {
     "name": "stdout",
     "output_type": "stream",
     "text": [
      "-4\n"
     ]
    }
   ],
   "source": [
    "firstnum = 8\n",
    "secondnum = 4\n",
    "\n",
    "def addnum(secondnum,firstnum):\n",
    "     total = firstnum - secondnum\n",
    "     print(total)\n",
    "\n",
    "addnum(firstnum,secondnum)"
   ]
  },
  {
   "cell_type": "code",
   "execution_count": 33,
   "metadata": {},
   "outputs": [
    {
     "name": "stdout",
     "output_type": "stream",
     "text": [
      "30\n"
     ]
    }
   ],
   "source": [
    "#default argument when we give value in function we should give it last \n",
    "firstnum = 10\n",
    "def defarg(ten,twenty=20):\n",
    "    result = ten + twenty\n",
    "    print(result)\n",
    "defarg(firstnum)    "
   ]
  },
  {
   "cell_type": "code",
   "execution_count": 38,
   "metadata": {},
   "outputs": [
    {
     "name": "stdout",
     "output_type": "stream",
     "text": [
      "SMIT Python Programming 3 months\n"
     ]
    }
   ],
   "source": [
    "inst = \"SMIT\"\n",
    "def students(inst,dur,lang= \"Python Programming\"):\n",
    "    print(inst + \" \" + lang + \" \" + dur)\n",
    "students(inst,dur=\"3 months\")"
   ]
  },
  {
   "cell_type": "code",
   "execution_count": 41,
   "metadata": {},
   "outputs": [
    {
     "name": "stdout",
     "output_type": "stream",
     "text": [
      "my name is Abdul Qadeer Raza Muhammad\n"
     ]
    }
   ],
   "source": [
    "def fun(name,fname):\n",
    "    print(\"my name is\" \" \" + name + \" \" +fname)\n",
    "fun(name = \"Abdul Qadeer\",fname = \"Raza Muhammad\")    "
   ]
  },
  {
   "cell_type": "code",
   "execution_count": 43,
   "metadata": {},
   "outputs": [
    {
     "name": "stdout",
     "output_type": "stream",
     "text": [
      "my name is Abdul Qadeer\n",
      "My Father name is  Raza Muhammad\n",
      "absolangi@gmail.com\n",
      "0305*****\n",
      "Karachi\n"
     ]
    }
   ],
   "source": [
    "# *parameter is used when we pass more than one value than we also use for loop\n",
    "\n",
    "def fun(name,fname,*params):\n",
    "    print(\"M y name is\" \" \" + name +\"\\n\" \"My Father name is  \" +fname)\n",
    "    for qadeer in params :\n",
    "        print(qadeer)\n",
    "fun( \"Abdul Qadeer\", \"Raza Muhammad\",\"absolangi@gmail.com\",\"0305*****\",\"Karachi\")    "
   ]
  },
  {
   "cell_type": "code",
   "execution_count": null,
   "metadata": {},
   "outputs": [],
   "source": []
  }
 ],
 "metadata": {
  "kernelspec": {
   "display_name": "Python 3",
   "language": "python",
   "name": "python3"
  },
  "language_info": {
   "codemirror_mode": {
    "name": "ipython",
    "version": 3
   },
   "file_extension": ".py",
   "mimetype": "text/x-python",
   "name": "python",
   "nbconvert_exporter": "python",
   "pygments_lexer": "ipython3",
   "version": "3.7.3"
  }
 },
 "nbformat": 4,
 "nbformat_minor": 2
}
