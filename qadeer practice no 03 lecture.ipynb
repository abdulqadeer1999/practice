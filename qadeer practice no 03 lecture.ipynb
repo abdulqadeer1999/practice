{
 "cells": [
  {
   "cell_type": "code",
   "execution_count": 8,
   "metadata": {},
   "outputs": [
    {
     "name": "stdout",
     "output_type": "stream",
     "text": [
      "Enter citypir jo goth\n",
      "This is not a cleanest city\n",
      "This is not a cleanest city\n",
      "This is not a cleanest city\n",
      "This is not a cleanest city\n"
     ]
    }
   ],
   "source": [
    "cleanest_cities = [\"karachi\",\"Hyderabad\",\"Sukkur\",\"Khairpur\"]\n",
    "val = input(\"Enter city\")\n",
    "for qadeer in cleanest_cities :\n",
    "    if val == qadeer :\n",
    "        print(\"This is a cleanest city\")\n",
    "    else :\n",
    "        print(\"This is not a cleanest city\")\n",
    "       "
   ]
  },
  {
   "cell_type": "code",
   "execution_count": 10,
   "metadata": {},
   "outputs": [
    {
     "name": "stdout",
     "output_type": "stream",
     "text": [
      "ABDUL\n"
     ]
    }
   ],
   "source": [
    "a = \"abdul\"\n",
    "print(a.upper())"
   ]
  },
  {
   "cell_type": "code",
   "execution_count": 11,
   "metadata": {},
   "outputs": [
    {
     "name": "stdout",
     "output_type": "stream",
     "text": [
      "qadeer\n"
     ]
    }
   ],
   "source": [
    "a = \"qadeeR\"\n",
    "print(a.lower())"
   ]
  },
  {
   "cell_type": "code",
   "execution_count": 12,
   "metadata": {},
   "outputs": [
    {
     "name": "stdout",
     "output_type": "stream",
     "text": [
      "Solangi\n"
     ]
    }
   ],
   "source": [
    "a = \"solangi\"\n",
    "print(a.title())"
   ]
  },
  {
   "cell_type": "code",
   "execution_count": null,
   "metadata": {},
   "outputs": [],
   "source": []
  }
 ],
 "metadata": {
  "kernelspec": {
   "display_name": "Python 3",
   "language": "python",
   "name": "python3"
  },
  "language_info": {
   "codemirror_mode": {
    "name": "ipython",
    "version": 3
   },
   "file_extension": ".py",
   "mimetype": "text/x-python",
   "name": "python",
   "nbconvert_exporter": "python",
   "pygments_lexer": "ipython3",
   "version": "3.7.3"
  }
 },
 "nbformat": 4,
 "nbformat_minor": 2
}
