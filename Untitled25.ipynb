{
 "cells": [
  {
   "cell_type": "code",
   "execution_count": 7,
   "metadata": {},
   "outputs": [
    {
     "name": "stdout",
     "output_type": "stream",
     "text": [
      "questions\n"
     ]
    }
   ],
   "source": [
    "questions = [\n",
    "    {\n",
    "        \"Sno\" : 1,\n",
    "        \"question\" : \"What is your country name\",\n",
    "        \"options\" : [\"Pakistan\",\"UAE\",\"USA\",\"Africa\"],\n",
    "        \"answer\" :\"Pakistan\"\n",
    "    },\n",
    "    {\n",
    "        \"Sno\" : 2,\n",
    "        \"questions\" : \"What is the capital of pakistan\",\n",
    "        \"options\" : [\"Islamabad\",\"Karachi\",\"Lahore\",\"hyderabad\"],\n",
    "        \"answer\" : \"Islamabad\"\n",
    "    },\n",
    "    {\n",
    "        \"Sno\" :3,\n",
    "        \"question\" : \"What is your city name\",\n",
    "        \"options\" : [\"Karachi\",\"Lahore\",\"Khairpur\",\"pir goth\"],\n",
    "        \"answer\" : \"pir goth\" \n",
    "    }\n",
    "        \n",
    "    \n",
    "]\n",
    "print(\"questions\")"
   ]
  },
  {
   "cell_type": "code",
   "execution_count": null,
   "metadata": {},
   "outputs": [],
   "source": []
  }
 ],
 "metadata": {
  "kernelspec": {
   "display_name": "Python 3",
   "language": "python",
   "name": "python3"
  },
  "language_info": {
   "codemirror_mode": {
    "name": "ipython",
    "version": 3
   },
   "file_extension": ".py",
   "mimetype": "text/x-python",
   "name": "python",
   "nbconvert_exporter": "python",
   "pygments_lexer": "ipython3",
   "version": "3.7.3"
  }
 },
 "nbformat": 4,
 "nbformat_minor": 2
}
