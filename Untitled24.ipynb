{
 "cells": [
  {
   "cell_type": "code",
   "execution_count": 19,
   "metadata": {},
   "outputs": [
    {
     "name": "stdout",
     "output_type": "stream",
     "text": [
      "Pakistan\n"
     ]
    }
   ],
   "source": [
    "names = [\n",
    "    {\n",
    "        \"S no,\" : 1,\n",
    "        \"question\" : \"What is your country name\",\n",
    "        \"options\" : [\"Pakistan\",\"USA\",\"UAE\",\"Africa\"],\n",
    "        \"answer\" : \"Pakistan\"\n",
    "    },\n",
    "    {\n",
    "        \"S no,\" : 2,\n",
    "        \"question\" :\"What is the capital of pakistan\",\n",
    "        \"options\" :[\"Islamabad\",\"karachi\",\"Lahore\",\"hyderabad\"],\n",
    "        \"answer\" : \"Islamabad\"\n",
    "    },\n",
    "    {\n",
    "        \"S no,\" : 3,\n",
    "        \"question\" : \"What is your city name\",\n",
    "        \"options\" : [\"karachi\",\"lahore\",\"islamabad\",\"khairpur\"],\n",
    "        \"answer\" : \"khairpur\"\n",
    "    },\n",
    "    \n",
    " ]\n",
    "print(names[0][\"answer\"])"
   ]
  },
  {
   "cell_type": "code",
   "execution_count": 20,
   "metadata": {},
   "outputs": [
    {
     "ename": "SyntaxError",
     "evalue": "invalid syntax (<ipython-input-20-c35bf103c1d4>, line 1)",
     "output_type": "error",
     "traceback": [
      "\u001b[1;36m  File \u001b[1;32m\"<ipython-input-20-c35bf103c1d4>\"\u001b[1;36m, line \u001b[1;32m1\u001b[0m\n\u001b[1;33m    def subtraction()\u001b[0m\n\u001b[1;37m                     ^\u001b[0m\n\u001b[1;31mSyntaxError\u001b[0m\u001b[1;31m:\u001b[0m invalid syntax\n"
     ]
    }
   ],
   "source": [
    "def subtraction()\n",
    "    num_1 = 10\n",
    "    num_2 = 5\n",
    "    total = num_1 - num_2\n",
    "    \n",
    "subtraction()    "
   ]
  },
  {
   "cell_type": "code",
   "execution_count": null,
   "metadata": {},
   "outputs": [],
   "source": []
  }
 ],
 "metadata": {
  "kernelspec": {
   "display_name": "Python 3",
   "language": "python",
   "name": "python3"
  },
  "language_info": {
   "codemirror_mode": {
    "name": "ipython",
    "version": 3
   },
   "file_extension": ".py",
   "mimetype": "text/x-python",
   "name": "python",
   "nbconvert_exporter": "python",
   "pygments_lexer": "ipython3",
   "version": "3.7.3"
  }
 },
 "nbformat": 4,
 "nbformat_minor": 2
}
