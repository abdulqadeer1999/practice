{
 "cells": [
  {
   "cell_type": "code",
   "execution_count": 4,
   "metadata": {},
   "outputs": [
    {
     "name": "stdout",
     "output_type": "stream",
     "text": [
      "[{'S No': 1, 'question': 'What is your country name', 'options': ['pak', 'china', 'uae', 'qatar'], 'answer': 'pak'}, {'S No': 2, 'question': 'What is your city name', 'options': ['karachi', 'isb', 'uae', 'qatar'], 'answer': 'Karachi'}, {'S No': 3, 'question': 'What is your district name', 'options': ['khp', 'isb', 'uae', 'qatar'], 'answer': 'khp'}]\n"
     ]
    }
   ],
   "source": [
    "#dictionaries\n",
    "\n",
    "questions = [\n",
    "    {\n",
    "        \"S No\" : 1,\n",
    "        \"question\" : \"What is your country name\",\n",
    "        \"options\" :[\"pak\",\"china\",\"uae\",\"qatar\"],\n",
    "        \"answer\" : \"pak\" \n",
    "    },\n",
    "    {\n",
    "         \"S No\" : 2,\n",
    "        \"question\" : \"What is your city name\",\n",
    "        \"options\" :[\"karachi\",\"isb\",\"uae\",\"qatar\"],\n",
    "        \"answer\" : \"Karachi\" \n",
    "    },\n",
    "    {\n",
    "                \n",
    "        \"S No\" : 3,\n",
    "        \"question\" : \"What is your district name\",\n",
    "        \"options\" :[\"khp\",\"isb\",\"uae\",\"qatar\"],\n",
    "        \"answer\" : \"khp\" \n",
    "    },\n",
    "]\n",
    "print(questions)"
   ]
  },
  {
   "cell_type": "code",
   "execution_count": 14,
   "metadata": {},
   "outputs": [
    {
     "name": "stdout",
     "output_type": "stream",
     "text": [
      "[{'S No': 4, 'question': 'What is your district name', 'options': ['khp', 'isb', 'uae', 'qatar'], 'answer': 'isb'}]\n"
     ]
    }
   ],
   "source": [
    "questions = [\n",
    "    {\n",
    "        \"S No\" : 1,\n",
    "        \"question\" : \"What is your country name\",\n",
    "        \"options\" :[\"pak\",\"china\",\"uae\",\"qatar\"],\n",
    "        \"answer\" : \"pak\" \n",
    "    },\n",
    "    {\n",
    "         \"S No\" : 2,\n",
    "        \"question\" : \"What is your city name\",\n",
    "        \"options\" :[\"karachi\",\"isb\",\"uae\",\"qatar\"],\n",
    "        \"answer\" : \"Karachi\" \n",
    "    },\n",
    "    {\n",
    "                \n",
    "        \"S No\" : 3,\n",
    "        \"question\" : \"What is your district name\",\n",
    "        \"options\" :[\"khp\",\"isb\",\"uae\",\"qatar\"],\n",
    "        \"answer\" : \"khp\" \n",
    "    },\n",
    "]\n",
    "    \n",
    "new_question = [\n",
    "          \n",
    "      {\n",
    "          \n",
    "      \n",
    "        \"S No\" : 4,\n",
    "        \"question\" : \"What is your district name\",\n",
    "        \"options\" :[\"khp\",\"isb\",\"uae\",\"qatar\"],\n",
    "        \"answer\" : \"isb\" \n",
    "    },\n",
    "]\n",
    "questions.append(new_question)\n",
    "print(questions[3])"
   ]
  },
  {
   "cell_type": "code",
   "execution_count": 20,
   "metadata": {},
   "outputs": [
    {
     "name": "stdout",
     "output_type": "stream",
     "text": [
      "pak\n"
     ]
    }
   ],
   "source": [
    "questions = [\n",
    "    {\n",
    "        \"S No\" : 1,\n",
    "        \"question\" : \"What is your country name\",\n",
    "        \"options\" :[\"pak\",\"china\",\"uae\",\"qatar\"],\n",
    "        \"answer\" : \"pak\" \n",
    "    },\n",
    "    {\n",
    "         \"S No\" : 2,\n",
    "        \"question\" : \"What is your city name\",\n",
    "        \"options\" :[\"karachi\",\"isb\",\"uae\",\"qatar\"],\n",
    "        \"answer\" : \"Karachi\" \n",
    "    },\n",
    "    {\n",
    "                \n",
    "        \"S No\" : 3,\n",
    "        \"question\" : \"What is your district name\",\n",
    "        \"options\" :[\"khp\",\"isb\",\"uae\",\"qatar\"],\n",
    "        \"answer\" : \"khp\" \n",
    "    },\n",
    "]\n",
    "    \n",
    "new_question = [\n",
    "          \n",
    "      {\n",
    "          \n",
    "      \n",
    "        \"S No\" : 4,\n",
    "        \"question\" : \"What is your district name\",\n",
    "        \"options\" :[\"khp\",\"isb\",\"uae\",\"qatar\"],\n",
    "        \"answer\" : \"isb\" \n",
    "    },\n",
    "]\n",
    "questions.append(new_question)\n",
    "print(questions[0][\"options\"][0])"
   ]
  },
  {
   "cell_type": "code",
   "execution_count": 26,
   "metadata": {},
   "outputs": [
    {
     "name": "stdout",
     "output_type": "stream",
     "text": [
      "Abdul Qadeer\n"
     ]
    }
   ],
   "source": [
    "\n",
    "#how to get information  out of dictionary \n",
    "students = {\n",
    "    0:  {\n",
    "      \"name\" : \"Abdul Qadeer\",\n",
    "        \"fname\" : \"Raza Muhammad\",\n",
    "        \"age\" : 20,\n",
    "    },\n",
    "   1: {\n",
    "        \"name\" : \"Qudoos\",\n",
    "        \"fname\" : \"Raza Muhammad\",\n",
    "        \"age\" : 17,\n",
    "    },\n",
    "}\n",
    "print(students[0][\"name\"])"
   ]
  },
  {
   "cell_type": "code",
   "execution_count": null,
   "metadata": {},
   "outputs": [],
   "source": [
    "questions = [\n",
    "    {\n",
    "        \"S No\" : 1,\n",
    "        \"question\" : \"What is your country name\",\n",
    "        \"options\" :[\"pak\",\"china\",\"uae\",\"qatar\"],\n",
    "        \"answer\" : \"pak\" \n",
    "    },\n",
    "    {\n",
    "         \"S No\" : 2,\n",
    "        \"question\" : \"What is your city name\",\n",
    "        \"options\" :[\"karachi\",\"isb\",\"uae\",\"qatar\"],\n",
    "        \"answer\" : \"Karachi\" \n",
    "    },\n",
    "    {\n",
    "                \n",
    "        \"S No\" : 3,\n",
    "        \"question\" : \"What is your district name\",\n",
    "        \"options\" :[\"khp\",\"isb\",\"uae\",\"qatar\"],\n",
    "        \"answer\" : \"khp\" \n",
    "    },\n",
    "\n",
    "]\n",
    "score = 0\n",
    "for question in questions:\n",
    "    data = str (question[\"S No\"]) + \": \" + question[\"question\"]+ \"\\n\" + question[\"options\"][0] +\" \" + question[\"options\"][1]+ \" \" + question[\"options\"][2] + \" \" + question[\"options\"][3]\n",
    "    answer = input(data)\n",
    "    if answer == question[\"answer\"]:\n",
    "        score += 1\n",
    "        print(\"your score is\",str(score))\n",
    "    \n"
   ]
  },
  {
   "cell_type": "code",
   "execution_count": null,
   "metadata": {},
   "outputs": [],
   "source": [
    "questions = [\n",
    "    {\n",
    "        \"S No\" : 1,\n",
    "        \"question\" : \"What is your country name\",\n",
    "        \"options\" :[\"pak\",\"china\",\"uae\",\"qatar\"],\n",
    "        \"answer\" : \"pak\" \n",
    "    },\n",
    "    {\n",
    "         \"S No\" : 2,\n",
    "        \"question\" : \"What is your city name\",\n",
    "        \"options\" :[\"karachi\",\"isb\",\"uae\",\"qatar\"],\n",
    "        \"answer\" : \"Karachi\" \n",
    "    },\n",
    "    {\n",
    "                \n",
    "        \"S No\" : 3,\n",
    "        \"question\" : \"What is your district name\",\n",
    "        \"options\" :[\"khp\",\"isb\",\"uae\",\"qatar\"],\n",
    "        \"answer\" : \"khp\" \n",
    "    },\n",
    "\n",
    "]\n",
    "score = 0\n",
    "for question in questions:\n",
    "    data = str (question[\"S No\"]) + \": \" + question[\"question\"]+ \"\\n\" + question[\"options\"][0] +\"\\n\" + question[\"options\"][1]+ \"\\n\" + question[\"options\"][2] + \"\\n\" + question[\"options\"][3]\n",
    "    answer = input(data)\n",
    "    if answer == question[\"answer\"]:\n",
    "        score += 1\n",
    "        print(\"your score is\",str(score))\n",
    "    \n"
   ]
  },
  {
   "cell_type": "code",
   "execution_count": null,
   "metadata": {},
   "outputs": [],
   "source": [
    "\n",
    "questions = [\n",
    "    {\n",
    "        \"S No\" : 1,\n",
    "        \"question\" : \"What is your country name\",\n",
    "        \"options\" :[\"pak\",\"china\",\"uae\",\"qatar\"],\n",
    "        \"answer\" : \"pak\" \n",
    "    },\n",
    "    {\n",
    "         \"S No\" : 2,\n",
    "        \"question\" : \"What is your city name\",\n",
    "        \"options\" :[\"karachi\",\"isb\",\"uae\",\"qatar\"],\n",
    "        \"answer\" : \"Karachi\" \n",
    "    },\n",
    "    {\n",
    "                \n",
    "        \"S No\" : 3,\n",
    "        \"question\" : \"What is your district name\",\n",
    "        \"options\" :[\"khp\",\"isb\",\"uae\",\"qatar\"],\n",
    "        \"answer\" : \"khp\" \n",
    "    },\n",
    "\n",
    "]\n",
    "score = 0\n",
    "for question in questions:\n",
    "    data = str (question[\"S No\"]) + \": \" + question[\"question\"]+ \"\\n\" + question[\"options\"][0] +\"\\n\" + question[\"options\"][1]+ \"\\n\" + question[\"options\"][2] + \"\\n\" + question[\"options\"][3]\n",
    "    answer = input(data)\n",
    "    if answer == question[\"answer\"]:\n",
    "        score += 1\n",
    "        print(\"your score is\",str(score))\n",
    "    \n"
   ]
  },
  {
   "cell_type": "code",
   "execution_count": null,
   "metadata": {},
   "outputs": [],
   "source": [
    "questions = [\n",
    "    {\n",
    "        \"S No\" : 1,\n",
    "        \"question\" : \"What is your country name\",\n",
    "        \"options\" :[\"pak\",\"china\",\"uae\",\"qatar\"],\n",
    "        \"answer\" : \"pak\" \n",
    "    },\n",
    "    {\n",
    "         \"S No\" : 2,\n",
    "        \"question\" : \"What is your city name\",\n",
    "        \"options\" :[\"karachi\",\"isb\",\"uae\",\"qatar\"],\n",
    "        \"answer\" : \"Karachi\" \n",
    "    },\n",
    "    {\n",
    "                \n",
    "        \"S No\" : 3,\n",
    "        \"question\" : \"What is your district name\",\n",
    "        \"options\" :[\"khp\",\"isb\",\"uae\",\"qatar\"],\n",
    "        \"answer\" : \"khp\" \n",
    "    },\n",
    "\n",
    "]\n",
    "score = 0\n",
    "for question in questions:\n",
    "    data = str (question[\"S No\"]) + \": \" + question[\"question\"]+ \"\\n\" + question[\"options\"][0] +\"\\n\" + question[\"options\"][1]+ \"\\n\" + question[\"options\"][2] + \"\\n\" + question[\"options\"][3]\n",
    "    answer = input(data)\n",
    "    if answer == question[\"answer\"]:\n",
    "        score += 1\n",
    "        print(\"your score is\",str(score))\n",
    "    \n"
   ]
  },
  {
   "cell_type": "code",
   "execution_count": null,
   "metadata": {},
   "outputs": [],
   "source": [
    "def addition():\n",
    "    num1 = 2\n",
    "    num2 = 10\n",
    "    total=  num1 + num2\n",
    "    print(total)\n",
    "addition()    \n",
    "    "
   ]
  },
  {
   "cell_type": "code",
   "execution_count": null,
   "metadata": {},
   "outputs": [],
   "source": []
  }
 ],
 "metadata": {
  "kernelspec": {
   "display_name": "Python 3",
   "language": "python",
   "name": "python3"
  },
  "language_info": {
   "codemirror_mode": {
    "name": "ipython",
    "version": 3
   },
   "file_extension": ".py",
   "mimetype": "text/x-python",
   "name": "python",
   "nbconvert_exporter": "python",
   "pygments_lexer": "ipython3",
   "version": "3.7.3"
  }
 },
 "nbformat": 4,
 "nbformat_minor": 2
}
