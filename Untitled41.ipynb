{
 "cells": [
  {
   "cell_type": "code",
   "execution_count": 6,
   "metadata": {},
   "outputs": [
    {
     "ename": "SyntaxError",
     "evalue": "invalid syntax (<ipython-input-6-584da47bb941>, line 5)",
     "output_type": "error",
     "traceback": [
      "\u001b[1;36m  File \u001b[1;32m\"<ipython-input-6-584da47bb941>\"\u001b[1;36m, line \u001b[1;32m5\u001b[0m\n\u001b[1;33m    fun(name= \"Abdul Qadeer\", fname=\"Raza Muhammad\",email = \"absolangi@gmail.com\",phone no = \"0305*****\",city = \"Karachi\")\u001b[0m\n\u001b[1;37m                                                                                         ^\u001b[0m\n\u001b[1;31mSyntaxError\u001b[0m\u001b[1;31m:\u001b[0m invalid syntax\n"
     ]
    }
   ],
   "source": [
    "def fun(name,fname,**parameter):\n",
    "    print(\"My name is\" \" \" + name +\"\\n\" \"My Father name is  \" +fname)\n",
    "    for key,value in parameter.items():\n",
    "        print(key + \" : \"+ value)\n",
    "fun(\"Abdul Qadeer\",\"Raza Muhammad\",email = \"absolangi@gmail.com\",phone no = \"0305*****\",city = \"Karachi\")    "
   ]
  },
  {
   "cell_type": "code",
   "execution_count": 10,
   "metadata": {},
   "outputs": [
    {
     "ename": "SyntaxError",
     "evalue": "invalid syntax (<ipython-input-10-70e0a5ba4024>, line 5)",
     "output_type": "error",
     "traceback": [
      "\u001b[1;36m  File \u001b[1;32m\"<ipython-input-10-70e0a5ba4024>\"\u001b[1;36m, line \u001b[1;32m5\u001b[0m\n\u001b[1;33m    fun(\"Abdul Qadeer\",\"Raza Muhammad\",email=\"absolangi@gmail.com\",phone no=\"0305*****\",city=\"Karachi\")\u001b[0m\n\u001b[1;37m                                                                          ^\u001b[0m\n\u001b[1;31mSyntaxError\u001b[0m\u001b[1;31m:\u001b[0m invalid syntax\n"
     ]
    }
   ],
   "source": [
    "def fun(name,fname,**parameter):\n",
    "    print(\"My name is\" \" \" + name +\" \" +fname)\n",
    "    for key,value in parameter.items():\n",
    "        print(key + \" : \"+ value)\n",
    "fun(\"Abdul Qadeer\",\"Raza Muhammad\",email=\"absolangi@gmail.com\",phone no=\"0305*****\",city=\"Karachi\")    "
   ]
  },
  {
   "cell_type": "code",
   "execution_count": 12,
   "metadata": {},
   "outputs": [
    {
     "name": "stdout",
     "output_type": "stream",
     "text": [
      "9\n"
     ]
    }
   ],
   "source": [
    "def fun():\n",
    "    num1 = 2\n",
    "    num2 = 7\n",
    "    result = num1 + num2\n",
    "    return result\n",
    "return_qadeer = fun()\n",
    "print(return_qadeer)\n",
    "    "
   ]
  },
  {
   "cell_type": "code",
   "execution_count": null,
   "metadata": {},
   "outputs": [],
   "source": []
  }
 ],
 "metadata": {
  "kernelspec": {
   "display_name": "Python 3",
   "language": "python",
   "name": "python3"
  },
  "language_info": {
   "codemirror_mode": {
    "name": "ipython",
    "version": 3
   },
   "file_extension": ".py",
   "mimetype": "text/x-python",
   "name": "python",
   "nbconvert_exporter": "python",
   "pygments_lexer": "ipython3",
   "version": "3.7.3"
  }
 },
 "nbformat": 4,
 "nbformat_minor": 2
}
