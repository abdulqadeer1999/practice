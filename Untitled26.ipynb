{
 "cells": [
  {
   "cell_type": "code",
   "execution_count": 27,
   "metadata": {},
   "outputs": [
    {
     "name": "stdout",
     "output_type": "stream",
     "text": [
      "[{'S no': 1, 'question': 'What is your name', 'Options': ['Ali', 'Aslam', 'Ahmed', 'Akber'], 'answer': 'Ali'}, {'S no': 4, 'question': 'What is your mother tongue', 'options': ['Sindhi', 'urdu', 'punjabi', 'balochi'], 'answer': 'Sindhi'}, {'S no': 2, 'question': 'What is your father name', 'options': ['waleed', 'Afzal', 'inayat', 'shoaib'], 'answer': ' waleed'}, {'S no': 3, 'question': 'In which country do you live', 'options': ['pakistan', 'USA', 'Africa', 'Uae'], 'answer': 'pakistan'}, {'S no': 4, 'question': 'What is your mother tongue', 'options': ['Sindhi', 'urdu', 'punjabi', 'balochi'], 'answer': 'Sindhi'}]\n"
     ]
    }
   ],
   "source": [
    "quiz = [\n",
    "    {\n",
    "         \"S no\" : 1,\n",
    "         \"question\" : \"What is your name\",\n",
    "         \"Options\" : [\"Ali\",\"Aslam\",\"Ahmed\",\"Akber\"],\n",
    "        \"answer\" : \"Ali\"\n",
    "         \n",
    "    },\n",
    "    {\n",
    "        \"S no\" : 2,\n",
    "        \"question\" : \"What is your father name\",\n",
    "        \"options\" : [\"waleed\",\"Afzal\",\"inayat\",\"shoaib\"],\n",
    "        \"answer\" :\" waleed\"\n",
    "    },\n",
    "    {\n",
    "        \"S no\" : 3,\n",
    "       \"question\" : \"In which country do you live\",\n",
    "        \"options\" : [\"pakistan\",\"USA\",\"Africa\",\"Uae\"],\n",
    "        \"answer\" : \"pakistan\"\n",
    "        \n",
    "    }\n",
    "]\n",
    "new_question = {\n",
    "    \"S no\" : 4,\n",
    "    \"question\" : \"What is your mother tongue\",\n",
    "    \"options\" : ['Sindhi','urdu','punjabi','balochi'],\n",
    "    \"answer\" : 'Sindhi'             \n",
    "}\n",
    "quiz.append(new_question)\n",
    "quiz.insert(1,new_question)\n",
    "print(quiz)"
   ]
  },
  {
   "cell_type": "code",
   "execution_count": 42,
   "metadata": {},
   "outputs": [
    {
     "ename": "IndentationError",
     "evalue": "unexpected indent (<ipython-input-42-9c5c42f341c9>, line 20)",
     "output_type": "error",
     "traceback": [
      "\u001b[1;36m  File \u001b[1;32m\"<ipython-input-42-9c5c42f341c9>\"\u001b[1;36m, line \u001b[1;32m20\u001b[0m\n\u001b[1;33m    print(student)\u001b[0m\n\u001b[1;37m    ^\u001b[0m\n\u001b[1;31mIndentationError\u001b[0m\u001b[1;31m:\u001b[0m unexpected indent\n"
     ]
    }
   ],
   "source": [
    "student = {\n",
    "      {\n",
    "          \n",
    "       \"name\" : \"Abdul Qadeer\",\n",
    "        \"fname\" : \"Raza Muhammad\",\n",
    "        \"age\"  : 20,\n",
    "      \n",
    "},\n",
    "      {\n",
    "          \n",
    "      \n",
    "         \"name\" : \"Aslam\",\n",
    "         \"fName\"  :\"Ahmed\",\n",
    "         \"age\" : 23,\n",
    "},\n",
    " }\n",
    "        \n",
    "    \n",
    "\n",
    "    print(student)"
   ]
  },
  {
   "cell_type": "code",
   "execution_count": 57,
   "metadata": {},
   "outputs": [
    {
     "name": "stdout",
     "output_type": "stream",
     "text": [
      "Abdul Qadeer\n"
     ]
    }
   ],
   "source": [
    "students = {\n",
    "   0: {\n",
    "        \"name\" : \"Abdul Qadeer\",\n",
    "        \"fName\":\"Raza Muhammad\",\n",
    "        \"age\" : 20,\n",
    "    },\n",
    "   1: {\n",
    "        \"name\" : \"Abdul Qudoos\",\n",
    "        \"fName\" : \"Raza Muhamamd\",\n",
    "        \"age\" : 16,\n",
    "        \n",
    "    },\n",
    "}\n",
    "print(students[0][\"name\"])"
   ]
  },
  {
   "cell_type": "code",
   "execution_count": 70,
   "metadata": {},
   "outputs": [
    {
     "ename": "TypeError",
     "evalue": "list indices must be integers or slices, not str",
     "output_type": "error",
     "traceback": [
      "\u001b[1;31m---------------------------------------------------------------------------\u001b[0m",
      "\u001b[1;31mTypeError\u001b[0m                                 Traceback (most recent call last)",
      "\u001b[1;32m<ipython-input-70-a0020c09d127>\u001b[0m in \u001b[0;36m<module>\u001b[1;34m\u001b[0m\n\u001b[0;32m     25\u001b[0m \u001b[1;33m\u001b[0m\u001b[0m\n\u001b[0;32m     26\u001b[0m \u001b[1;32mfor\u001b[0m \u001b[0mquestion\u001b[0m \u001b[1;32min\u001b[0m \u001b[0mquiz\u001b[0m \u001b[1;33m:\u001b[0m\u001b[1;33m\u001b[0m\u001b[1;33m\u001b[0m\u001b[0m\n\u001b[1;32m---> 27\u001b[1;33m     \u001b[0mdata\u001b[0m \u001b[1;33m=\u001b[0m \u001b[0mstr\u001b[0m\u001b[1;33m(\u001b[0m\u001b[0mquiz\u001b[0m\u001b[1;33m[\u001b[0m\u001b[1;34m\"S no.\"\u001b[0m\u001b[1;33m]\u001b[0m\u001b[1;33m)\u001b[0m \u001b[1;33m+\u001b[0m \u001b[1;34m\" : \"\u001b[0m \u001b[1;33m+\u001b[0m \u001b[0mquestion\u001b[0m\u001b[1;33m[\u001b[0m\u001b[1;34m\"question\"\u001b[0m\u001b[1;33m]\u001b[0m \u001b[1;33m+\u001b[0m \u001b[1;34m\" \"\u001b[0m \u001b[1;33m+\u001b[0m \u001b[0mquestion\u001b[0m\u001b[1;33m[\u001b[0m\u001b[1;34m\"options\"\u001b[0m\u001b[1;33m]\u001b[0m\u001b[1;33m[\u001b[0m\u001b[1;36m1\u001b[0m\u001b[1;33m]\u001b[0m \u001b[1;33m+\u001b[0m \u001b[1;34m\" \"\u001b[0m \u001b[1;33m+\u001b[0m \u001b[0mquestion\u001b[0m\u001b[1;33m[\u001b[0m\u001b[1;34m\"options\"\u001b[0m\u001b[1;33m]\u001b[0m\u001b[1;33m[\u001b[0m\u001b[1;36m2\u001b[0m\u001b[1;33m]\u001b[0m \u001b[1;33m+\u001b[0m \u001b[1;34m\" \"\u001b[0m \u001b[1;33m+\u001b[0m \u001b[0mquestion\u001b[0m\u001b[1;33m[\u001b[0m\u001b[1;34m\"options\"\u001b[0m\u001b[1;33m]\u001b[0m\u001b[1;33m[\u001b[0m\u001b[1;36m3\u001b[0m\u001b[1;33m]\u001b[0m\u001b[1;33m\u001b[0m\u001b[1;33m\u001b[0m\u001b[0m\n\u001b[0m\u001b[0;32m     28\u001b[0m     \u001b[0manswer\u001b[0m \u001b[1;33m=\u001b[0m \u001b[0minput\u001b[0m\u001b[1;33m(\u001b[0m\u001b[0mdata\u001b[0m\u001b[1;33m)\u001b[0m\u001b[1;33m\u001b[0m\u001b[1;33m\u001b[0m\u001b[0m\n\u001b[0;32m     29\u001b[0m     \u001b[1;32mif\u001b[0m \u001b[0manswer\u001b[0m \u001b[1;33m==\u001b[0m \u001b[0mquiz\u001b[0m\u001b[1;33m[\u001b[0m\u001b[1;34m\"answer\"\u001b[0m\u001b[1;33m]\u001b[0m\u001b[1;33m:\u001b[0m\u001b[1;33m\u001b[0m\u001b[1;33m\u001b[0m\u001b[0m\n",
      "\u001b[1;31mTypeError\u001b[0m: list indices must be integers or slices, not str"
     ]
    }
   ],
   "source": [
    "quiz = [\n",
    "    {\n",
    "         \"S no\" : 1,\n",
    "         \"question\" : \"What is your name\",\n",
    "         \"Options\" : [\"Ali\",\"Aslam\",\"Ahmed\",\"Akber\"],\n",
    "        \"answer\" : \"Ali\"\n",
    "         \n",
    "    },\n",
    "    {\n",
    "        \"S no\" : 2,\n",
    "        \"question\" : \"What is your father name\",\n",
    "        \"options\" : [\"waleed\",\"Afzal\",\"inayat\",\"shoaib\"],\n",
    "        \"answer\" :\" waleed\"\n",
    "    },\n",
    "    {\n",
    "        \"S no\" : 3,\n",
    "       \"question\" : \"In which country do you live\",\n",
    "        \"options\" : [\"pakistan\",\"USA\",\"Africa\",\"Uae\"],\n",
    "        \"answer\" : \"pakistan\"\n",
    "        \n",
    "    }\n",
    "]\n",
    "\n",
    "score = 0\n",
    "\n",
    "for question in quiz :\n",
    "    data = str(quiz[\"S no.\"]) + \" : \" + question[\"question\"] + \" \" + question[\"options\"][1] + \" \" + question[\"options\"][2] + \" \" + question[\"options\"][3]\n",
    "    answer = input(data)\n",
    "    if answer == quiz[\"answer\"]:\n",
    "        score += 1\n",
    "    print(\"your score is:\" +str(score))\n"
   ]
  },
  {
   "cell_type": "code",
   "execution_count": null,
   "metadata": {},
   "outputs": [],
   "source": []
  }
 ],
 "metadata": {
  "kernelspec": {
   "display_name": "Python 3",
   "language": "python",
   "name": "python3"
  },
  "language_info": {
   "codemirror_mode": {
    "name": "ipython",
    "version": 3
   },
   "file_extension": ".py",
   "mimetype": "text/x-python",
   "name": "python",
   "nbconvert_exporter": "python",
   "pygments_lexer": "ipython3",
   "version": "3.7.3"
  }
 },
 "nbformat": 4,
 "nbformat_minor": 2
}
