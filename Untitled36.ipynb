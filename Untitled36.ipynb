{
 "cells": [
  {
   "cell_type": "code",
   "execution_count": 13,
   "metadata": {},
   "outputs": [
    {
     "name": "stdout",
     "output_type": "stream",
     "text": [
      "['Abdul Qadeer', 'Abdul Caste', 'Abdul District', 'Abdul Name', 'Solangi Qadeer', 'Solangi Caste', 'Solangi District', 'Solangi Name', 'Qadeer Qadeer', 'Qadeer Caste', 'Qadeer District', 'Qadeer Name', 'Ahmed Qadeer', 'Ahmed Caste', 'Ahmed District', 'Ahmed Name']\n"
     ]
    }
   ],
   "source": [
    "first_names = [\"Abdul\",\"Solangi\",\"Qadeer\",\"Ahmed\"]\n",
    "last_names = [\"Qadeer\",\"Caste\",\"District\",\"Name\"]\n",
    "full_names = []\n",
    "for a_first_name in first_names :\n",
    "        for a_last_name in last_names :\n",
    "            full_names.append(a_first_name + \" \" + a_last_name)\n",
    "print(full_names)"
   ]
  },
  {
   "cell_type": "code",
   "execution_count": 15,
   "metadata": {},
   "outputs": [
    {
     "name": "stdout",
     "output_type": "stream",
     "text": [
      "30\n"
     ]
    }
   ],
   "source": [
    "a = 10 \n",
    "b = str(a)\n",
    "c= 15 \n",
    "d = c + c\n",
    "print(d)"
   ]
  },
  {
   "cell_type": "code",
   "execution_count": 16,
   "metadata": {},
   "outputs": [
    {
     "name": "stdout",
     "output_type": "stream",
     "text": [
      "10.0\n"
     ]
    }
   ],
   "source": [
    "a = 10 \n",
    "b = float(a)\n",
    "print(b)"
   ]
  },
  {
   "cell_type": "code",
   "execution_count": 24,
   "metadata": {},
   "outputs": [
    {
     "name": "stdout",
     "output_type": "stream",
     "text": [
      "abdul\n"
     ]
    }
   ],
   "source": [
    "a = \"ABdul\"\n",
    "print(a.lower())"
   ]
  },
  {
   "cell_type": "code",
   "execution_count": 25,
   "metadata": {},
   "outputs": [
    {
     "name": "stdout",
     "output_type": "stream",
     "text": [
      "ABDUL\n"
     ]
    }
   ],
   "source": [
    "a = \"abdul\"\n",
    "print (a.upper())"
   ]
  },
  {
   "cell_type": "code",
   "execution_count": 28,
   "metadata": {},
   "outputs": [
    {
     "name": "stdout",
     "output_type": "stream",
     "text": [
      "Abdul\n"
     ]
    }
   ],
   "source": [
    "a = \"ABDUL\"\n",
    "print(a.title())"
   ]
  },
  {
   "cell_type": "code",
   "execution_count": 45,
   "metadata": {},
   "outputs": [
    {
     "name": "stdout",
     "output_type": "stream",
     "text": [
      "Abdul Qadeer\n"
     ]
    }
   ],
   "source": [
    "information = {\n",
    "    \"firstname\" : \"Abdul\",\n",
    "    \"lastname\" : \"Qadeer\",\n",
    "    \"Caste\" : \"Solangi\",\n",
    "    \"Address\" : \"karachi\"\n",
    "}\n",
    "print(information[\"firstname\"]+ \" \" +str(\"Qadeer\"))"
   ]
  },
  {
   "cell_type": "code",
   "execution_count": 46,
   "metadata": {},
   "outputs": [
    {
     "name": "stdout",
     "output_type": "stream",
     "text": [
      "{'firstname': 'Abdul', 'lastname': 'Qadeer', 'Caste': 'Solangi', 'Address': 'karachi', 'addree': 'street no 786'}\n"
     ]
    }
   ],
   "source": [
    "information = {\n",
    "    \"firstname\" : \"Abdul\",\n",
    "    \"lastname\" : \"Qadeer\",\n",
    "    \"Caste\" : \"Solangi\",\n",
    "    \"Address\" : \"karachi\"\n",
    "}\n",
    "information[\"addree\"]= \"street no 786\"\n",
    "print(information)"
   ]
  },
  {
   "cell_type": "code",
   "execution_count": 48,
   "metadata": {},
   "outputs": [
    {
     "name": "stdout",
     "output_type": "stream",
     "text": [
      "{'firstname': 'Abdul', 'lastname': 'Qadeer', 'Caste': 'Solangi', 'Address': 'karachi', 'language': 'Sindhi'}\n"
     ]
    }
   ],
   "source": [
    "information = {\n",
    "    \"firstname\" : \"Abdul\",\n",
    "    \"lastname\" : \"Qadeer\",\n",
    "    \"Caste\" : \"Solangi\",\n",
    "    \"Address\" : \"karachi\"\n",
    "}\n",
    "information[\"language\"] = \"Sindhi\"\n",
    "print(information)"
   ]
  },
  {
   "cell_type": "code",
   "execution_count": 52,
   "metadata": {},
   "outputs": [
    {
     "ename": "SyntaxError",
     "evalue": "invalid syntax (<ipython-input-52-b255aa272a7e>, line 7)",
     "output_type": "error",
     "traceback": [
      "\u001b[1;36m  File \u001b[1;32m\"<ipython-input-52-b255aa272a7e>\"\u001b[1;36m, line \u001b[1;32m7\u001b[0m\n\u001b[1;33m    del information = [\"Address\"]\u001b[0m\n\u001b[1;37m                    ^\u001b[0m\n\u001b[1;31mSyntaxError\u001b[0m\u001b[1;31m:\u001b[0m invalid syntax\n"
     ]
    }
   ],
   "source": [
    "information = {\n",
    "    \"firstname\" : \"Abdul\",\n",
    "    \"lastname\" : \"Qadeer\",\n",
    "    \"Caste\" : \"Solangi\",\n",
    "    \"Address\" : \"karachi\"\n",
    "}\n",
    "del information = [\"Address\"]\n",
    "print(information)"
   ]
  },
  {
   "cell_type": "code",
   "execution_count": 53,
   "metadata": {},
   "outputs": [
    {
     "name": "stdout",
     "output_type": "stream",
     "text": [
      "Abdul\n",
      "Qadeer\n",
      "Solangi\n",
      "karachi\n",
      "Sindhi\n"
     ]
    }
   ],
   "source": [
    "for each_value in information.values():\n",
    "    print(each_value)"
   ]
  },
  {
   "cell_type": "code",
   "execution_count": 57,
   "metadata": {},
   "outputs": [
    {
     "ename": "NameError",
     "evalue": "name 'each_keys' is not defined",
     "output_type": "error",
     "traceback": [
      "\u001b[1;31m---------------------------------------------------------------------------\u001b[0m",
      "\u001b[1;31mNameError\u001b[0m                                 Traceback (most recent call last)",
      "\u001b[1;32m<ipython-input-57-f210ff579185>\u001b[0m in \u001b[0;36m<module>\u001b[1;34m\u001b[0m\n\u001b[0;32m      1\u001b[0m \u001b[1;32mfor\u001b[0m \u001b[0meach_value\u001b[0m \u001b[1;32min\u001b[0m \u001b[0minformation\u001b[0m\u001b[1;33m.\u001b[0m\u001b[0mkeys\u001b[0m\u001b[1;33m(\u001b[0m\u001b[1;33m)\u001b[0m\u001b[1;33m:\u001b[0m\u001b[1;33m\u001b[0m\u001b[1;33m\u001b[0m\u001b[0m\n\u001b[1;32m----> 2\u001b[1;33m     \u001b[0mprint\u001b[0m\u001b[1;33m(\u001b[0m\u001b[0meach_keys\u001b[0m\u001b[1;33m)\u001b[0m\u001b[1;33m\u001b[0m\u001b[1;33m\u001b[0m\u001b[0m\n\u001b[0m\u001b[0;32m      3\u001b[0m \u001b[1;32mfor\u001b[0m \u001b[0meach_value\u001b[0m \u001b[1;32min\u001b[0m \u001b[0minformation\u001b[0m\u001b[1;33m.\u001b[0m\u001b[0mvalues\u001b[0m\u001b[1;33m(\u001b[0m\u001b[1;33m)\u001b[0m\u001b[1;33m:\u001b[0m\u001b[1;33m\u001b[0m\u001b[1;33m\u001b[0m\u001b[0m\n\u001b[0;32m      4\u001b[0m     \u001b[0mprint\u001b[0m\u001b[1;33m(\u001b[0m\u001b[0meach_values\u001b[0m\u001b[1;33m)\u001b[0m\u001b[1;33m\u001b[0m\u001b[1;33m\u001b[0m\u001b[0m\n",
      "\u001b[1;31mNameError\u001b[0m: name 'each_keys' is not defined"
     ]
    }
   ],
   "source": [
    "for each_value in information.keys():\n",
    "    print(each_key)\n",
    "for each_value in information.values():\n",
    "    print(each_value)"
   ]
  },
  {
   "cell_type": "code",
   "execution_count": 66,
   "metadata": {},
   "outputs": [
    {
     "name": "stdout",
     "output_type": "stream",
     "text": [
      "The information firstname is Abdul\n",
      "The information lastname is Qadeer\n",
      "The information Caste is Solangi\n",
      "The information Address is karachi\n",
      "The information language is Sindhi\n"
     ]
    }
   ],
   "source": [
    "for each_key, each_value in information.items():\n",
    "    print(\"The information\" \" \"+  each_key +\" \" \"is\" \" \"+ each_value)"
   ]
  },
  {
   "cell_type": "code",
   "execution_count": 69,
   "metadata": {},
   "outputs": [
    {
     "name": "stdout",
     "output_type": "stream",
     "text": [
      "The information firstname is Sindhi\n",
      "The information lastname is Sindhi\n",
      "The information Caste is Sindhi\n",
      "The information Address is Sindhi\n",
      "The information language is Sindhi\n"
     ]
    }
   ],
   "source": [
    "for qadeer, solangi in information.items():\n",
    "    print(\"The information\" \" \"+  qadeer +\" \" \"is\" \" \"+ each_value)"
   ]
  },
  {
   "cell_type": "code",
   "execution_count": 73,
   "metadata": {},
   "outputs": [
    {
     "name": "stdout",
     "output_type": "stream",
     "text": [
      "['False', 'None', 'True', 'and', 'as', 'assert', 'async', 'await', 'break', 'class', 'continue', 'def', 'del', 'elif', 'else', 'except', 'finally', 'for', 'from', 'global', 'if', 'import', 'in', 'is', 'lambda', 'nonlocal', 'not', 'or', 'pass', 'raise', 'return', 'try', 'while', 'with', 'yield']\n",
      "Total no of keywoeds  35\n"
     ]
    }
   ],
   "source": [
    "import keyword\n",
    "print(keyword.kwlist)\n",
    "print(\"Total no of keywoeds \", len(keyword.kwlist))"
   ]
  },
  {
   "cell_type": "code",
   "execution_count": null,
   "metadata": {},
   "outputs": [],
   "source": []
  },
  {
   "cell_type": "code",
   "execution_count": null,
   "metadata": {},
   "outputs": [],
   "source": []
  },
  {
   "cell_type": "code",
   "execution_count": null,
   "metadata": {},
   "outputs": [],
   "source": []
  },
  {
   "cell_type": "code",
   "execution_count": null,
   "metadata": {},
   "outputs": [],
   "source": []
  },
  {
   "cell_type": "code",
   "execution_count": null,
   "metadata": {},
   "outputs": [],
   "source": []
  },
  {
   "cell_type": "code",
   "execution_count": null,
   "metadata": {},
   "outputs": [],
   "source": []
  },
  {
   "cell_type": "code",
   "execution_count": null,
   "metadata": {},
   "outputs": [],
   "source": []
  },
  {
   "cell_type": "code",
   "execution_count": null,
   "metadata": {},
   "outputs": [],
   "source": []
  },
  {
   "cell_type": "code",
   "execution_count": null,
   "metadata": {},
   "outputs": [],
   "source": []
  },
  {
   "cell_type": "code",
   "execution_count": null,
   "metadata": {},
   "outputs": [],
   "source": []
  }
 ],
 "metadata": {
  "kernelspec": {
   "display_name": "Python 3",
   "language": "python",
   "name": "python3"
  },
  "language_info": {
   "codemirror_mode": {
    "name": "ipython",
    "version": 3
   },
   "file_extension": ".py",
   "mimetype": "text/x-python",
   "name": "python",
   "nbconvert_exporter": "python",
   "pygments_lexer": "ipython3",
   "version": "3.7.3"
  }
 },
 "nbformat": 4,
 "nbformat_minor": 2
}
