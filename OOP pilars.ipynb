{
 "cells": [
  {
   "cell_type": "code",
   "execution_count": 18,
   "metadata": {},
   "outputs": [
    {
     "name": "stdout",
     "output_type": "stream",
     "text": [
      "No\n",
      "20 kilometers per litre \n",
      " The car name is audi \n",
      " Model of car  A8 \n",
      " and car color is brown\n"
     ]
    },
    {
     "data": {
      "text/plain": [
       "<bound method car.tank of <__main__.car object at 0x0000001ECDD4F898>>"
      ]
     },
     "execution_count": 18,
     "metadata": {},
     "output_type": "execute_result"
    }
   ],
   "source": [
    "#Inheritance example\n",
    "class car ():\n",
    "    def __init__(self,name,model,color):\n",
    "        self.name = name\n",
    "        self.model = model\n",
    "        self.color = color\n",
    "    def average(self,kilo):\n",
    "        print(\"{} kilometers per litre \".format(kilo))\n",
    "    def tank(self):\n",
    "        print(\"yes\")\n",
    "class Electrical_car(car):\n",
    "    def __init(self,name,model,color):\n",
    "        super().__init__(name,model,color)\n",
    "        \n",
    "    def tank(self):\n",
    "        print(\"No\")\n",
    "    def get_description(self):\n",
    "        print(\" The car name is {} \\n Model of car  {} \\n and car color is {}\" .format(self.name,self.model,self.color))\n",
    "    \n",
    "    \n",
    "car1= car(\"audi\",\"A3\",\"black\")\n",
    "new_car = Electrical_car (\"audi\",\"A8\",\"brown\")\n",
    "new_car.tank()\n",
    "new_car.average(20)\n",
    "new_car.get_description()\n",
    "car1.tank"
   ]
  },
  {
   "cell_type": "code",
   "execution_count": 35,
   "metadata": {},
   "outputs": [
    {
     "name": "stdout",
     "output_type": "stream",
     "text": [
      "30 kilometers per litre \n",
      "30 kilometers per litre \n",
      "35 kilometers per litre \n"
     ]
    }
   ],
   "source": [
    "#encapsulation\n",
    "class NewCar():\n",
    "    def __init__ (self):\n",
    "        self.__maxAverage = 30\n",
    "        \n",
    "    def average (self):\n",
    "        print(\"{} kilometers per litre \" .format(self.__maxAverage))\n",
    "        \n",
    "    def updateAverage (self,updated_value):\n",
    "        self.__maxAverage = updated_value \n",
    "        \n",
    "obj = NewCar()\n",
    "obj.average()\n",
    "obj.__maxAverage = 60\n",
    "obj.average()\n",
    "obj.updateAverage(35)\n",
    "obj.average()\n",
    "\n",
    "    "
   ]
  },
  {
   "cell_type": "code",
   "execution_count": 45,
   "metadata": {},
   "outputs": [
    {
     "name": "stdout",
     "output_type": "stream",
     "text": [
      "The capital of Pakistan is islamabad,population of Pakistan is 20 crores\n",
      "The capital of USA is washington dc,population no USA is 40 crores\n"
     ]
    }
   ],
   "source": [
    "#polymorphism\n",
    "class Pakistan():\n",
    "    def detail(self):\n",
    "        print(\"The capital of Pakistan is islamabad,population of Pakistan is 20 crores\")\n",
    "        \n",
    "class USA():\n",
    "    def detail(self):\n",
    "        print(\"The capital of USA is washington dc,population no USA is 40 crores\")\n",
    "        \n",
    "        \n",
    "def description(country):\n",
    "        country.detail()\n",
    "        \n",
    "pak = Pakistan()\n",
    "usa = USA()\n",
    "\n",
    "description(pak)\n",
    "description(usa)"
   ]
  },
  {
   "cell_type": "code",
   "execution_count": 50,
   "metadata": {},
   "outputs": [
    {
     "name": "stdout",
     "output_type": "stream",
     "text": [
      "13\n"
     ]
    }
   ],
   "source": [
    "class overloadingDemo():\n",
    "    def sum(self,a,b):\n",
    "        print(a+b)\n",
    "        \n",
    "    def sum(self,a,b,c):\n",
    "        print(a+b+c)\n",
    "        \n",
    "obj3 = overloadingDemo()\n",
    "obj3.sum(2,5,6)"
   ]
  },
  {
   "cell_type": "code",
   "execution_count": 58,
   "metadata": {},
   "outputs": [
    {
     "name": "stdout",
     "output_type": "stream",
     "text": [
      "8\n"
     ]
    }
   ],
   "source": [
    "class overloadingDemo():\n",
    "    def sum(self,a=None,b=None,c=None):\n",
    "        if a!=None and b!=None and c!=None:\n",
    "           print(a+b+c)\n",
    "        elif a!=None and b!=None:\n",
    "        \n",
    "        \n",
    "   \n",
    "            print(a+b)\n",
    "        \n",
    "obj3 = overloadingDemo()\n",
    "obj3.sum(2,6)"
   ]
  },
  {
   "cell_type": "code",
   "execution_count": 60,
   "metadata": {},
   "outputs": [
    {
     "name": "stdout",
     "output_type": "stream",
     "text": [
      "He gives 7 tola \n",
      "Valima is going on\n"
     ]
    }
   ],
   "source": [
    "from abc import ABC,abstractmethod\n",
    "class Nikkah(ABC):\n",
    "    \n",
    "    @abstractmethod\n",
    "    def haqmaher (self):\n",
    "        pass\n",
    "    \n",
    "class Human1(Nikkah):\n",
    "    def haqmaher (self,tola):\n",
    "        print(\"He gives \" + str(tola) + \" tola \")\n",
    "        \n",
    "    def valima (self):\n",
    "        print(\"Valima is going on\")\n",
    "        \n",
    "obj6 = Human1()\n",
    "obj6.haqmaher(7)\n",
    "obj6.valima()\n",
    "    "
   ]
  },
  {
   "cell_type": "code",
   "execution_count": null,
   "metadata": {},
   "outputs": [],
   "source": []
  }
 ],
 "metadata": {
  "kernelspec": {
   "display_name": "Python 3",
   "language": "python",
   "name": "python3"
  },
  "language_info": {
   "codemirror_mode": {
    "name": "ipython",
    "version": 3
   },
   "file_extension": ".py",
   "mimetype": "text/x-python",
   "name": "python",
   "nbconvert_exporter": "python",
   "pygments_lexer": "ipython3",
   "version": "3.7.3"
  }
 },
 "nbformat": 4,
 "nbformat_minor": 2
}
