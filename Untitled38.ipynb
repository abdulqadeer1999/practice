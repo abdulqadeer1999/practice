{
 "cells": [
  {
   "cell_type": "code",
   "execution_count": null,
   "metadata": {},
   "outputs": [],
   "source": [
    "questions = [\n",
    "    {\n",
    "        \"S No\" : 1,\n",
    "        \"question\" : \"What is your country name\",\n",
    "        \"options\" :[\"pak\",\"china\",\"uae\",\"qatar\"],\n",
    "        \"answer\" : \"pak\" \n",
    "    },\n",
    "    {\n",
    "         \"S No\" : 2,\n",
    "        \"question\" : \"What is your city name\",\n",
    "        \"options\" :[\"karachi\",\"isb\",\"uae\",\"qatar\"],\n",
    "        \"answer\" : \"Karachi\" \n",
    "    },\n",
    "    {\n",
    "                \n",
    "        \"S No\" : 3,\n",
    "        \"question\" : \"What is your district name\",\n",
    "        \"options\" :[\"khp\",\"isb\",\"uae\",\"qatar\"],\n",
    "        \"answer\" : \"khp\" \n",
    "    },\n",
    "\n",
    "]\n",
    "score = 0\n",
    "for question in questions:\n",
    "    data = str (question[\"S No\"]) + \": \" + question[\"question\"]+ \"\\n please write correct answer \"\"/n\" + question[\"options\"][0] +\"\\n\" + question[\"options\"][1]+ \"\\n\" + question[\"options\"][2] + \"\\n\" + question[\"options\"][3]\n",
    "    answer = input(data)\n",
    "    if answer == question[\"answer\"]:\n",
    "        score += 1\n",
    "        print(\"your score is\",str(score))\n",
    "    \n"
   ]
  },
  {
   "cell_type": "code",
   "execution_count": null,
   "metadata": {},
   "outputs": [],
   "source": []
  }
 ],
 "metadata": {
  "kernelspec": {
   "display_name": "Python 3",
   "language": "python",
   "name": "python3"
  },
  "language_info": {
   "codemirror_mode": {
    "name": "ipython",
    "version": 3
   },
   "file_extension": ".py",
   "mimetype": "text/x-python",
   "name": "python",
   "nbconvert_exporter": "python",
   "pygments_lexer": "ipython3",
   "version": "3.7.3"
  }
 },
 "nbformat": 4,
 "nbformat_minor": 2
}
