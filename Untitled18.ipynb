{
 "cells": [
  {
   "cell_type": "code",
   "execution_count": 1,
   "metadata": {},
   "outputs": [
    {
     "name": "stdout",
     "output_type": "stream",
     "text": [
      "Hello world\n"
     ]
    }
   ],
   "source": [
    "print (\"Hello world\")"
   ]
  },
  {
   "cell_type": "code",
   "execution_count": 19,
   "metadata": {},
   "outputs": [
    {
     "ename": "SyntaxError",
     "evalue": "invalid syntax (<ipython-input-19-d1a74014a779>, line 4)",
     "output_type": "error",
     "traceback": [
      "\u001b[1;36m  File \u001b[1;32m\"<ipython-input-19-d1a74014a779>\"\u001b[1;36m, line \u001b[1;32m4\u001b[0m\n\u001b[1;33m    else :\u001b[0m\n\u001b[1;37m       ^\u001b[0m\n\u001b[1;31mSyntaxError\u001b[0m\u001b[1;31m:\u001b[0m invalid syntax\n"
     ]
    }
   ],
   "source": [
    "age = int(input(\"What is  yor age \"))\n",
    "if age >= 18 :\n",
    "    print(\"You are allowed to ride\")\n",
    "    else :\n",
    "    print(\"You are not allowed \")\n",
    "       "
   ]
  },
  {
   "cell_type": "code",
   "execution_count": 21,
   "metadata": {},
   "outputs": [
    {
     "ename": "SyntaxError",
     "evalue": "invalid syntax (<ipython-input-21-afe879df884d>, line 8)",
     "output_type": "error",
     "traceback": [
      "\u001b[1;36m  File \u001b[1;32m\"<ipython-input-21-afe879df884d>\"\u001b[1;36m, line \u001b[1;32m8\u001b[0m\n\u001b[1;33m    else:\u001b[0m\n\u001b[1;37m       ^\u001b[0m\n\u001b[1;31mSyntaxError\u001b[0m\u001b[1;31m:\u001b[0m invalid syntax\n"
     ]
    }
   ],
   "source": [
    "x=10;\n",
    "y=12;\n",
    "a=30;\n",
    "b=8;\n",
    "\n",
    "if x + y == a - b :\n",
    "    print(\"Your answer is correct\")\n",
    "    else:\n",
    "        print(\"Your answer is wrong\")"
   ]
  },
  {
   "cell_type": "code",
   "execution_count": 23,
   "metadata": {},
   "outputs": [
    {
     "ename": "SyntaxError",
     "evalue": "invalid syntax (<ipython-input-23-585761630292>, line 4)",
     "output_type": "error",
     "traceback": [
      "\u001b[1;36m  File \u001b[1;32m\"<ipython-input-23-585761630292>\"\u001b[1;36m, line \u001b[1;32m4\u001b[0m\n\u001b[1;33m    elif per >= 70 and per < 80 :\u001b[0m\n\u001b[1;37m       ^\u001b[0m\n\u001b[1;31mSyntaxError\u001b[0m\u001b[1;31m:\u001b[0m invalid syntax\n"
     ]
    }
   ],
   "source": [
    "per = int(input(\"Enter your percentage\"));\n",
    "if per >= 80 and per <= 100 :\n",
    "    print(\"A+\")\n",
    "    elif per >= 70 and per < 80 :\n",
    "        print(\"A\")\n",
    "        elif per >= 60 and per < 70 :\n",
    "            print(\"B\")\n",
    "            elif per >= 50 and per < 60 :\n",
    "                print(\"Fail\")\n",
    "                else :\n",
    "                    print(\"you have given incorrect command\")"
   ]
  },
  {
   "cell_type": "code",
   "execution_count": 24,
   "metadata": {},
   "outputs": [
    {
     "name": "stdout",
     "output_type": "stream",
     "text": [
      "['Abdul', 'Qadeer', 'Solangi', 25, False, 0.9]\n"
     ]
    }
   ],
   "source": [
    "arr = [\"Abdul\",\"Qadeer\",\"Solangi\",25,False,0.9]\n",
    "print(arr)"
   ]
  },
  {
   "cell_type": "code",
   "execution_count": 26,
   "metadata": {},
   "outputs": [
    {
     "name": "stdout",
     "output_type": "stream",
     "text": [
      "Qadeer\n"
     ]
    }
   ],
   "source": [
    "print(arr[1])"
   ]
  },
  {
   "cell_type": "code",
   "execution_count": 27,
   "metadata": {},
   "outputs": [
    {
     "name": "stdout",
     "output_type": "stream",
     "text": [
      "Abdul\n"
     ]
    }
   ],
   "source": [
    "print(arr[0])"
   ]
  },
  {
   "cell_type": "code",
   "execution_count": 36,
   "metadata": {},
   "outputs": [
    {
     "name": "stdout",
     "output_type": "stream",
     "text": [
      "['Abdul', 'Qadeer', 'Solangi', 25, False, 0.9, ['Qudoos'], 'Qudoos', 'Qudoos', 'Qudoos', 'Aslam', 'Aslam', 'Aslam', 'Aslam', 'Aslam']\n"
     ]
    }
   ],
   "source": [
    "arr.append(\"Aslam\")\n",
    "arr"
   ]
  },
  {
   "cell_type": "code",
   "execution_count": 38,
   "metadata": {},
   "outputs": [
    {
     "data": {
      "text/plain": [
       "['Abdul',\n",
       " 'Qadeer',\n",
       " 'Solangi',\n",
       " 25,\n",
       " False,\n",
       " 0.9,\n",
       " ['Qudoos'],\n",
       " 'Qudoos',\n",
       " 'Qudoos',\n",
       " 'Qudoos',\n",
       " 'Aslam',\n",
       " 'Aslam',\n",
       " 'Aslam',\n",
       " 'Aslam',\n",
       " 'Aslam',\n",
       " 'Aslam',\n",
       " 'Umer']"
      ]
     },
     "execution_count": 38,
     "metadata": {},
     "output_type": "execute_result"
    }
   ],
   "source": [
    "arr.append(\"Umer\")\n",
    "arr"
   ]
  },
  {
   "cell_type": "code",
   "execution_count": 40,
   "metadata": {},
   "outputs": [
    {
     "name": "stdout",
     "output_type": "stream",
     "text": [
      "['Abdul', 'Qadeer', 'Solangi', 25, False, 0.9, ['Qudoos'], 'Qudoos', 'Qudoos', 'Qudoos', 'Aslam', 'Aslam', 'Aslam', 'Aslam', 'Aslam', 'Aslam', 'Umer', 'Asif', 'Aslam', 'Asif', 'Aslam']\n"
     ]
    }
   ],
   "source": [
    "arr1 = arr + [\"Asif\",\"Aslam\"]\n",
    "print(arr1)"
   ]
  },
  {
   "cell_type": "code",
   "execution_count": 41,
   "metadata": {},
   "outputs": [
    {
     "name": "stdout",
     "output_type": "stream",
     "text": [
      "['Abdul', 'Qadeer', 'Solangi', 'Raza', 25, False, 0.9, ['Qudoos'], 'Qudoos', 'Qudoos', 'Qudoos', 'Aslam', 'Aslam', 'Aslam', 'Aslam', 'Aslam', 'Aslam', 'Umer', 'Asif', 'Aslam', 'Asif', 'Aslam']\n"
     ]
    }
   ],
   "source": [
    "arr1.insert(3,\"Raza\")\n",
    "print(arr1)"
   ]
  },
  {
   "cell_type": "code",
   "execution_count": 43,
   "metadata": {},
   "outputs": [
    {
     "name": "stdout",
     "output_type": "stream",
     "text": [
      "['Abdul', 'Qadeer', 'Solangi', 'Raza', 25, True, 0.9, ['Qudoos'], 'Qudoos', 'Qudoos', 'Qudoos', 'Aslam', 'Aslam', 'Aslam', 'Aslam', 'Aslam', 'Aslam', 'Umer', 'Asif', 'Aslam', 'Asif', 'Aslam']\n"
     ]
    }
   ],
   "source": [
    "arr1[5]=True\n",
    "print(arr1)"
   ]
  },
  {
   "cell_type": "code",
   "execution_count": 45,
   "metadata": {},
   "outputs": [
    {
     "name": "stdout",
     "output_type": "stream",
     "text": [
      "['Solangi', 'Raza', 25, True]\n"
     ]
    }
   ],
   "source": [
    "arr2=arr1[2 : 6]\n",
    "print(arr2)"
   ]
  },
  {
   "cell_type": "code",
   "execution_count": 46,
   "metadata": {},
   "outputs": [
    {
     "data": {
      "text/plain": [
       "['Abdul',\n",
       " 'Qadeer',\n",
       " 'Solangi',\n",
       " 'Raza',\n",
       " 25,\n",
       " True,\n",
       " 0.9,\n",
       " ['Qudoos'],\n",
       " 'Qudoos',\n",
       " 'Qudoos',\n",
       " 'Qudoos',\n",
       " 'Aslam',\n",
       " 'Aslam',\n",
       " 'Aslam',\n",
       " 'Aslam',\n",
       " 'Aslam',\n",
       " 'Aslam',\n",
       " 'Umer',\n",
       " 'Asif',\n",
       " 'Aslam',\n",
       " 'Asif',\n",
       " 'Aslam']"
      ]
     },
     "execution_count": 46,
     "metadata": {},
     "output_type": "execute_result"
    }
   ],
   "source": []
  },
  {
   "cell_type": "code",
   "execution_count": 47,
   "metadata": {},
   "outputs": [
    {
     "name": "stdout",
     "output_type": "stream",
     "text": [
      "['Abdul', 'Qadeer', 'Solangi', 25, False]\n"
     ]
    }
   ],
   "source": [
    "arr3=arr[:5]\n",
    "print(arr3)"
   ]
  },
  {
   "cell_type": "code",
   "execution_count": 48,
   "metadata": {},
   "outputs": [
    {
     "name": "stdout",
     "output_type": "stream",
     "text": [
      "['Abdul', 'Solangi', 'Raza', 25, True, 0.9, ['Qudoos'], 'Qudoos', 'Qudoos', 'Qudoos', 'Aslam', 'Aslam', 'Aslam', 'Aslam', 'Aslam', 'Aslam', 'Umer', 'Asif', 'Aslam', 'Asif', 'Aslam']\n"
     ]
    }
   ],
   "source": [
    "del arr1[1]\n",
    "print(arr1)"
   ]
  },
  {
   "cell_type": "code",
   "execution_count": 49,
   "metadata": {},
   "outputs": [
    {
     "name": "stdout",
     "output_type": "stream",
     "text": [
      "['Qadeer', 'Solangi', 25, False, 0.9, ['Qudoos'], 'Qudoos', 'Qudoos', 'Qudoos', 'Aslam', 'Aslam', 'Aslam', 'Aslam', 'Aslam', 'Aslam', 'Umer', 'Asif', 'Aslam']\n"
     ]
    }
   ],
   "source": [
    "arr.remove(\"Abdul\")\n",
    "print(arr)"
   ]
  },
  {
   "cell_type": "code",
   "execution_count": 50,
   "metadata": {},
   "outputs": [
    {
     "name": "stdout",
     "output_type": "stream",
     "text": [
      "Aslam\n"
     ]
    }
   ],
   "source": [
    "arr4 = arr.pop()\n",
    "print(arr4)"
   ]
  },
  {
   "cell_type": "code",
   "execution_count": null,
   "metadata": {},
   "outputs": [],
   "source": []
  }
 ],
 "metadata": {
  "kernelspec": {
   "display_name": "Python 3",
   "language": "python",
   "name": "python3"
  },
  "language_info": {
   "codemirror_mode": {
    "name": "ipython",
    "version": 3
   },
   "file_extension": ".py",
   "mimetype": "text/x-python",
   "name": "python",
   "nbconvert_exporter": "python",
   "pygments_lexer": "ipython3",
   "version": "3.7.3"
  }
 },
 "nbformat": 4,
 "nbformat_minor": 2
}
