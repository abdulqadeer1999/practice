{
 "cells": [
  {
   "cell_type": "code",
   "execution_count": 1,
   "metadata": {},
   "outputs": [
    {
     "name": "stdout",
     "output_type": "stream",
     "text": [
      "Abdul\n",
      "1\n",
      "twenty\n",
      "Dawood university\n"
     ]
    },
    {
     "ename": "AttributeError",
     "evalue": "'Registration' object has no attribute 'updateUni'",
     "output_type": "error",
     "traceback": [
      "\u001b[1;31m---------------------------------------------------------------------------\u001b[0m",
      "\u001b[1;31mAttributeError\u001b[0m                            Traceback (most recent call last)",
      "\u001b[1;32m<ipython-input-1-e3b5983abb07>\u001b[0m in \u001b[0;36m<module>\u001b[1;34m\u001b[0m\n\u001b[0;32m     20\u001b[0m \u001b[1;33m\u001b[0m\u001b[0m\n\u001b[0;32m     21\u001b[0m \u001b[1;33m\u001b[0m\u001b[0m\n\u001b[1;32m---> 22\u001b[1;33m \u001b[0mstu1\u001b[0m\u001b[1;33m.\u001b[0m\u001b[0mupdateUni\u001b[0m \u001b[1;33m(\u001b[0m\u001b[1;34m\"MUET university\"\u001b[0m\u001b[1;33m)\u001b[0m\u001b[1;33m\u001b[0m\u001b[1;33m\u001b[0m\u001b[0m\n\u001b[0m\u001b[0;32m     23\u001b[0m \u001b[0mprint\u001b[0m\u001b[1;33m(\u001b[0m\u001b[0mstu1\u001b[0m\u001b[1;33m.\u001b[0m\u001b[0muniName\u001b[0m\u001b[1;33m,\u001b[0m\u001b[1;34m\"modify university\"\u001b[0m\u001b[1;33m)\u001b[0m\u001b[1;33m\u001b[0m\u001b[1;33m\u001b[0m\u001b[0m\n\u001b[0;32m     24\u001b[0m \u001b[1;33m\u001b[0m\u001b[0m\n",
      "\u001b[1;31mAttributeError\u001b[0m: 'Registration' object has no attribute 'updateUni'"
     ]
    }
   ],
   "source": [
    "class Registration():\n",
    " ##instantiation method \n",
    "    def __init__ (self,name,rollno,age):\n",
    "         ##attributes and attribute names\n",
    "         self.name = name\n",
    "         self.rollno = rollno\n",
    "         self.age = age\n",
    "         ##default attribute \n",
    "         self.uniName = \"Dawood university\"\n",
    "        \n",
    "    def  updateuniName(self,newName):\n",
    "         self.uniName = newName\n",
    "    \n",
    "##instance \n",
    "stu1 = Registration(\"Abdul\",1,\"twenty\")\n",
    "print(stu1.name)\n",
    "print(stu1.rollno)\n",
    "print(stu1.age)\n",
    "print(stu1.uniName)\n",
    "\n",
    "\n",
    "stu1.updateUni (\"MUET university\")\n",
    "print(stu1.uniName,\"modify university\")\n",
    "\n",
    "print(\"\\n\")\n",
    "#new instancce for second student\n",
    "stu2 = Registration(\"Qadeer\",2,\"twelve\")\n",
    "print(stu2.name)\n",
    "print(stu2.rollno)\n",
    "print(stu2.age)\n",
    "print(stu2.uniName ,\"default university\")\n",
    "stu2.uniName=\"Hamdard university\"\n",
    "print(stu2.uniName,\"modify university\")\n",
    "print(\"\\n\")\n",
    "print(stu1)\n",
    "print(stu2)\n"
   ]
  },
  {
   "cell_type": "code",
   "execution_count": null,
   "metadata": {},
   "outputs": [],
   "source": []
  },
  {
   "cell_type": "code",
   "execution_count": null,
   "metadata": {},
   "outputs": [],
   "source": []
  }
 ],
 "metadata": {
  "kernelspec": {
   "display_name": "Python 3",
   "language": "python",
   "name": "python3"
  },
  "language_info": {
   "codemirror_mode": {
    "name": "ipython",
    "version": 3
   },
   "file_extension": ".py",
   "mimetype": "text/x-python",
   "name": "python",
   "nbconvert_exporter": "python",
   "pygments_lexer": "ipython3",
   "version": "3.7.3"
  }
 },
 "nbformat": 4,
 "nbformat_minor": 2
}
