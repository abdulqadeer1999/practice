{
 "cells": [
  {
   "cell_type": "code",
   "execution_count": 3,
   "metadata": {},
   "outputs": [
    {
     "name": "stdout",
     "output_type": "stream",
     "text": [
      "karachi\n",
      "lahore\n"
     ]
    }
   ],
   "source": [
    "cleanest_cities = [ \"karachi\",\"lahore\",]\n",
    "for qadeer in cleanest_cities:\n",
    "            print(qadeer)"
   ]
  },
  {
   "cell_type": "code",
   "execution_count": 30,
   "metadata": {},
   "outputs": [
    {
     "name": "stdout",
     "output_type": "stream",
     "text": [
      "enter a city lahore\n",
      "not a clean city\n"
     ]
    }
   ],
   "source": [
    "cleanest_cities = [\"karachi\",\"Hyderabad\",\"khairpur\",\"pir goth\"]\n",
    "city = input(\"enter a city\")\n",
    "\n",
    "for qadeer in cleanest_cities:\n",
    "    if city == qadeer:\n",
    "          print(\"clean city\") \n",
    "           \n",
    "    else:\n",
    "            \n",
    "            print(\"not a clean city\")\n",
    "            break "
   ]
  },
  {
   "cell_type": "code",
   "execution_count": null,
   "metadata": {},
   "outputs": [],
   "source": []
  },
  {
   "cell_type": "code",
   "execution_count": null,
   "metadata": {},
   "outputs": [],
   "source": []
  }
 ],
 "metadata": {
  "kernelspec": {
   "display_name": "Python 3",
   "language": "python",
   "name": "python3"
  },
  "language_info": {
   "codemirror_mode": {
    "name": "ipython",
    "version": 3
   },
   "file_extension": ".py",
   "mimetype": "text/x-python",
   "name": "python",
   "nbconvert_exporter": "python",
   "pygments_lexer": "ipython3",
   "version": "3.7.3"
  }
 },
 "nbformat": 4,
 "nbformat_minor": 2
}
