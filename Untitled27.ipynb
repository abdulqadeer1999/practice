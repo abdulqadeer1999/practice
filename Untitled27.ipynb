{
 "cells": [
  {
   "cell_type": "code",
   "execution_count": null,
   "metadata": {},
   "outputs": [],
   "source": [
    " elif attempt == answer:\n",
    "            print('Correct')\n",
    "            stop_asking = False\n",
    "            break\n",
    "        elif tries == 1: # Specify the number of tries to fail the answer        \n",
    "            print('Incorrect!!! You ran out of your attempts')\n",
    "            stop_asking = True\n",
    "            break\n",
    "        else:\n",
    "            tries += 1\n",
    "            print('Incorrect!!! Try again.')\n",
    "    if stop_asking:\n",
    "        break"
   ]
  },
  {
   "cell_type": "code",
   "execution_count": null,
   "metadata": {},
   "outputs": [],
   "source": [
    "import random\n",
    "\n",
    "# Dictionary of questions and answers\n",
    "\n",
    "questions = {\n",
    "            'Who is president of USA?':\n",
    "            ('\\na. Myslef\\nb. His dad\\nc. His mom\\nd. Barack Obama\\n', 'd'),\n",
    "            'What is the capital of USA?':\n",
    "            ('\\na. Zimbabwe\\nb. New York\\nc. Washington\\nd. Do not exist', 'c')\n",
    "            }\n",
    "\n",
    "def ask_question(questions):\n",
    "    '''Asks random question from 'questions 'dictionary and returns\n",
    "       players's attempt and correct answer.'''\n",
    "\n",
    "    item = random.choice(list(questions.items()))\n",
    "    question = item[0]\n",
    "    (variants, answer) = item[1]\n",
    "    print(question, variants)\n",
    "    attempt = input('\\nHit \\'a\\', \\'b\\', \\'c\\' or \\'d\\' for your answer\\n')\n",
    "    return (attempt, answer)\n",
    "\n",
    "# Questions loop\n",
    "tries = 0\n",
    "for questions_number in range(5):\n",
    "    while True: # Asking 1 question\n",
    "        attempt, answer = ask_question(questions)\n",
    "        if attempt not in {'a', 'b', 'c', 'd'}:\n",
    "            print('INVALID INPUT!!! Only hit \\'y\\' or \\'n\\' for your response')\n",
    "             elif attempt == answer:\n",
    "            print('Correct')\n",
    "            stop_asking = False\n",
    "            break\n",
    "        elif tries == 1: # Specify the number of tries to fail the answer        \n",
    "            print('Incorrect!!! You ran out of your attempts')\n",
    "            stop_asking = True\n",
    "            break\n",
    "        else:\n",
    "            tries += 1\n",
    "            print('Incorrect!!! Try again.')\n",
    "    if stop_asking:\n",
    "        break"
   ]
  },
  {
   "cell_type": "code",
   "execution_count": null,
   "metadata": {},
   "outputs": [],
   "source": [
    " elif attempt == answer:\n",
    "            print('Correct')\n",
    "            stop_asking = False\n",
    "            break\n",
    "        elif tries == 1: # Specify the number of tries to fail the answer        \n",
    "            print('Incorrect!!! You ran out of your attempts')\n",
    "            stop_asking = True\n",
    "            break\n",
    "        else:\n",
    "            tries += 1\n",
    "            print('Incorrect!!! Try again.')\n",
    "    if stop_asking:\n",
    "        break"
   ]
  },
  {
   "cell_type": "code",
   "execution_count": null,
   "metadata": {},
   "outputs": [],
   "source": []
  }
 ],
 "metadata": {
  "kernelspec": {
   "display_name": "Python 3",
   "language": "python",
   "name": "python3"
  },
  "language_info": {
   "codemirror_mode": {
    "name": "ipython",
    "version": 3
   },
   "file_extension": ".py",
   "mimetype": "text/x-python",
   "name": "python",
   "nbconvert_exporter": "python",
   "pygments_lexer": "ipython3",
   "version": "3.7.3"
  }
 },
 "nbformat": 4,
 "nbformat_minor": 2
}
