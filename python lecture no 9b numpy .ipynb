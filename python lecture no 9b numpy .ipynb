{
 "cells": [
  {
   "cell_type": "code",
   "execution_count": 4,
   "metadata": {},
   "outputs": [
    {
     "ename": "AttributeError",
     "evalue": "module 'Untitled56' has no attribute 'add'",
     "output_type": "error",
     "traceback": [
      "\u001b[1;31m---------------------------------------------------------------------------\u001b[0m",
      "\u001b[1;31mAttributeError\u001b[0m                            Traceback (most recent call last)",
      "\u001b[1;32m<ipython-input-4-9abc4f398c6b>\u001b[0m in \u001b[0;36m<module>\u001b[1;34m\u001b[0m\n\u001b[0;32m      3\u001b[0m \u001b[1;32mimport\u001b[0m \u001b[0mUntitled56\u001b[0m\u001b[1;33m\u001b[0m\u001b[1;33m\u001b[0m\u001b[0m\n\u001b[0;32m      4\u001b[0m \u001b[1;33m\u001b[0m\u001b[0m\n\u001b[1;32m----> 5\u001b[1;33m \u001b[0mUntitled56\u001b[0m\u001b[1;33m.\u001b[0m\u001b[0madd\u001b[0m\u001b[1;33m(\u001b[0m\u001b[1;36m2\u001b[0m\u001b[1;33m,\u001b[0m\u001b[1;36m3\u001b[0m\u001b[1;33m)\u001b[0m\u001b[1;33m\u001b[0m\u001b[1;33m\u001b[0m\u001b[0m\n\u001b[0m",
      "\u001b[1;31mAttributeError\u001b[0m: module 'Untitled56' has no attribute 'add'"
     ]
    }
   ],
   "source": [
    "import import_ipynb\n",
    "\n",
    "import Untitled56\n",
    "\n",
    "Untitled56.add(2,3)"
   ]
  },
  {
   "cell_type": "code",
   "execution_count": 17,
   "metadata": {},
   "outputs": [
    {
     "name": "stdout",
     "output_type": "stream",
     "text": [
      "[[ 0.53847811 -1.39557358  0.04568494]\n",
      " [-0.60459473 -0.00230199 -0.15201367]] \n",
      "\n",
      "[[ 1.07695621 -2.79114717  0.09136988]\n",
      " [-1.20918946 -0.00460399 -0.30402733]] \n",
      "\n",
      "[[  5.38478106 -13.95573585   0.45684938]\n",
      " [ -6.0459473   -0.02301995  -1.52013665]] \n",
      "\n",
      "(2, 3) \n",
      "\n",
      "float64 \n",
      "\n",
      "2\n"
     ]
    }
   ],
   "source": [
    "#Numpy \n",
    "import numpy as np\n",
    "\n",
    "\n",
    "data = np.random.randn(2,3) ##2,3 are arrays\n",
    "\n",
    "print(data,'\\n')\n",
    "print(data + data,'\\n') ##ADDITION\n",
    "print(data *10,'\\n')##multiplication\n",
    "print(data.shape,'\\n') ##it tells 2 arrays and every array has 3 elemements\n",
    "print(data.dtype,'\\n')\n",
    "print(data.ndim)##it tells dimension\n"
   ]
  },
  {
   "cell_type": "code",
   "execution_count": 24,
   "metadata": {},
   "outputs": [
    {
     "name": "stdout",
     "output_type": "stream",
     "text": [
      "[0. 0. 0. 0. 0. 0. 0. 0. 0. 0.] \n",
      "\n",
      "[[0. 0. 0. 0. 0. 0.]\n",
      " [0. 0. 0. 0. 0. 0.]\n",
      " [0. 0. 0. 0. 0. 0.]] \n",
      "\n",
      "[[[0. 0. 0. 0. 0. 0.]\n",
      "  [0. 0. 0. 0. 0. 0.]\n",
      "  [0. 0. 0. 0. 0. 0.]]\n",
      "\n",
      " [[0. 0. 0. 0. 0. 0.]\n",
      "  [0. 0. 0. 0. 0. 0.]\n",
      "  [0. 0. 0. 0. 0. 0.]]] \n",
      "\n",
      "it is empty example [[0. 0. 0. 0. 0. 0.]\n",
      " [0. 0. 0. 0. 0. 0.]\n",
      " [0. 0. 0. 0. 0. 0.]]\n"
     ]
    }
   ],
   "source": [
    "print(np.zeros(10),'\\n')\n",
    "print(np.zeros((3,6)),'\\n')\n",
    "print(np.zeros((2,3,6)),'\\n')\n",
    "print(\"it is empty example\",np.empty((3,6)))"
   ]
  },
  {
   "cell_type": "code",
   "execution_count": 28,
   "metadata": {},
   "outputs": [
    {
     "name": "stdout",
     "output_type": "stream",
     "text": [
      "[1. 2. 3. 4. 5.]\n"
     ]
    }
   ],
   "source": [
    "arr = np.array([1, 2, 3, 4, 5 ])\n",
    "print(arr.astype(np.float64))"
   ]
  },
  {
   "cell_type": "code",
   "execution_count": 43,
   "metadata": {},
   "outputs": [
    {
     "name": "stdout",
     "output_type": "stream",
     "text": [
      "[ 8  4 12 16] \n",
      "\n",
      "[16  4 36 64] \n",
      "\n",
      "[0.5        1.         0.33333333 0.25      ] \n",
      "\n",
      "[16  4 36 64] \n",
      "\n",
      "[2.         1.41421356 2.44948974 2.82842712] \n",
      "\n",
      "[  54.59815003    7.3890561   403.42879349 2980.95798704] \n",
      "\n",
      "5.0 \n",
      "\n",
      "20 \n",
      "\n",
      "[ 4  6 12 20] \n",
      "\n",
      "[2 4 6 8] \n",
      "\n",
      "[ True  True  True  True]\n"
     ]
    }
   ],
   "source": [
    "arr = np.array([4,2,6,8], dtype = \"int64\")\n",
    "print(arr *2,'\\n')\n",
    "print(arr*arr,'\\n')\n",
    "print(2/arr,'\\n')\n",
    "print(arr**2,'\\n')#power\n",
    "print(np.sqrt(arr),'\\n') ##square root\n",
    "print(np.exp(arr),'\\n')\n",
    "print(np.mean(arr),'\\n')\n",
    "print(np.sum(arr),'\\n')\n",
    "print(np.cumsum(arr),'\\n')\n",
    "print(np.sort(arr),'\\n')\n",
    "\n",
    "arr2 = np.array([0,1,3,5])\n",
    "print(arr > arr2)"
   ]
  },
  {
   "cell_type": "code",
   "execution_count": 45,
   "metadata": {},
   "outputs": [
    {
     "name": "stdout",
     "output_type": "stream",
     "text": [
      "[0 1 2 3 4 5 6 7 8 9]\n",
      "[5 6 7]\n",
      "[0 0 0 3 4 5 6 7 8 9]\n"
     ]
    }
   ],
   "source": [
    "arr = np.arange(10)\n",
    "print(arr)\n",
    "\n",
    "arr2 = arr[5 : 8]\n",
    "print(arr2)\n",
    "\n",
    "arr[:3] = 0 #Slicing\n",
    "print(arr)"
   ]
  },
  {
   "cell_type": "code",
   "execution_count": 53,
   "metadata": {},
   "outputs": [
    {
     "name": "stdout",
     "output_type": "stream",
     "text": [
      "[[ 0.30433668  0.589778    0.55852566]\n",
      " [-1.05887378  2.03624662  0.93032629]\n",
      " [ 0.533811   -0.01030791  0.40513678]\n",
      " [-1.7051842   0.51522522 -0.08911963]\n",
      " [-0.82784361 -0.72337415  0.72774661]] \n",
      "\n",
      "['Abdul' 'Qadeer' 'Soalngi' 'AQ' 'Qadeer'] \n",
      "\n",
      "[False  True False False  True] \n",
      "\n",
      "[[-1.05887378  2.03624662  0.93032629]\n",
      " [-0.82784361 -0.72337415  0.72774661]] \n",
      "\n",
      "[[ 0.30433668  0.589778    0.55852566]\n",
      " [ 0.533811   -0.01030791  0.40513678]\n",
      " [-1.7051842   0.51522522 -0.08911963]] \n",
      "\n",
      "['AQ' 'Abdul' 'Qadeer' 'Soalngi']\n"
     ]
    }
   ],
   "source": [
    "namesArr = np.array([\"Abdul\",\"Qadeer\",\"Soalngi\",\"AQ\",\"Qadeer\"])\n",
    "numArr= np.random.randn(5,3)\n",
    "print(numArr,'\\n')\n",
    "print(namesArr,'\\n')\n",
    "print(namesArr == \"Qadeer\",'\\n')\n",
    "print(numArr[namesArr == \"Qadeer\"], '\\n')\n",
    "print(numArr[~(namesArr == \"Qadeer\")], '\\n') ##~ not condition\n",
    "\n",
    "print(np.unique(namesArr))##duplicate removed \n"
   ]
  },
  {
   "cell_type": "code",
   "execution_count": 56,
   "metadata": {},
   "outputs": [
    {
     "name": "stdout",
     "output_type": "stream",
     "text": [
      "[ 1.233485   -2.0351392   1.77261883 -0.509069  ] \n",
      "\n",
      "[-0.44156043  0.47121946 -0.81391716 -0.19635113] \n",
      "\n",
      "[ 1.233485    0.47121946  1.77261883 -0.19635113]\n",
      "[-0.44156043 -2.0351392  -0.81391716 -0.509069  ]\n"
     ]
    }
   ],
   "source": [
    "arr = np.random.randn(4)\n",
    "print(arr,'\\n')\n",
    "\n",
    "arr2 = np.random.randn(4)\n",
    "print(arr2, '\\n')\n",
    "\n",
    "print(np.maximum(arr,arr2))\n",
    "print(np.minimum(arr,arr2))"
   ]
  },
  {
   "cell_type": "code",
   "execution_count": null,
   "metadata": {},
   "outputs": [],
   "source": []
  }
 ],
 "metadata": {
  "kernelspec": {
   "display_name": "Python 3",
   "language": "python",
   "name": "python3"
  },
  "language_info": {
   "codemirror_mode": {
    "name": "ipython",
    "version": 3
   },
   "file_extension": ".py",
   "mimetype": "text/x-python",
   "name": "python",
   "nbconvert_exporter": "python",
   "pygments_lexer": "ipython3",
   "version": "3.7.3"
  }
 },
 "nbformat": 4,
 "nbformat_minor": 2
}
