{
 "cells": [
  {
   "cell_type": "code",
   "execution_count": 13,
   "metadata": {},
   "outputs": [
    {
     "ename": "TypeError",
     "evalue": "Car() takes no arguments",
     "output_type": "error",
     "traceback": [
      "\u001b[1;31m---------------------------------------------------------------------------\u001b[0m",
      "\u001b[1;31mTypeError\u001b[0m                                 Traceback (most recent call last)",
      "\u001b[1;32m<ipython-input-13-2327f78bb1cc>\u001b[0m in \u001b[0;36m<module>\u001b[1;34m\u001b[0m\n\u001b[0;32m     14\u001b[0m         \u001b[0mprint\u001b[0m\u001b[1;33m(\u001b[0m\u001b[0mself\u001b[0m\u001b[1;33m.\u001b[0m\u001b[0mnumber\u001b[0m\u001b[1;33m)\u001b[0m\u001b[1;33m\u001b[0m\u001b[1;33m\u001b[0m\u001b[0m\n\u001b[0;32m     15\u001b[0m \u001b[1;33m\u001b[0m\u001b[0m\n\u001b[1;32m---> 16\u001b[1;33m \u001b[0mcar1\u001b[0m\u001b[1;33m=\u001b[0m\u001b[0mCar\u001b[0m \u001b[1;33m(\u001b[0m\u001b[1;34m'2019'\u001b[0m\u001b[1;33m,\u001b[0m\u001b[1;34m'Black'\u001b[0m\u001b[1;33m,\u001b[0m\u001b[1;34m'Corolla'\u001b[0m\u001b[1;33m,\u001b[0m\u001b[1;34m'Toyota'\u001b[0m\u001b[1;33m,\u001b[0m\u001b[1;34m'Abx-1234'\u001b[0m\u001b[1;33m)\u001b[0m\u001b[1;33m\u001b[0m\u001b[1;33m\u001b[0m\u001b[0m\n\u001b[0m\u001b[0;32m     17\u001b[0m \u001b[0mcar2\u001b[0m\u001b[1;33m=\u001b[0m\u001b[0mCar\u001b[0m \u001b[1;33m(\u001b[0m\u001b[1;34m'2018'\u001b[0m\u001b[1;33m,\u001b[0m\u001b[1;34m'white'\u001b[0m\u001b[1;33m,\u001b[0m\u001b[1;34m'VIGO'\u001b[0m\u001b[1;33m,\u001b[0m\u001b[1;34m'Toyota'\u001b[0m\u001b[1;33m,\u001b[0m\u001b[1;34m'Xayz-212'\u001b[0m\u001b[1;33m)\u001b[0m\u001b[1;33m\u001b[0m\u001b[1;33m\u001b[0m\u001b[0m\n\u001b[0;32m     18\u001b[0m \u001b[0mcar3\u001b[0m\u001b[1;33m=\u001b[0m\u001b[0mCar\u001b[0m \u001b[1;33m(\u001b[0m\u001b[1;34m'2017'\u001b[0m\u001b[1;33m,\u001b[0m\u001b[1;34m'Red'\u001b[0m\u001b[1;33m,\u001b[0m\u001b[1;34m'landcruiser'\u001b[0m\u001b[1;33m,\u001b[0m\u001b[1;34m'Toyota'\u001b[0m\u001b[1;33m,\u001b[0m\u001b[1;34m'cda-132'\u001b[0m\u001b[1;33m)\u001b[0m\u001b[1;33m\u001b[0m\u001b[1;33m\u001b[0m\u001b[0m\n",
      "\u001b[1;31mTypeError\u001b[0m: Car() takes no arguments"
     ]
    }
   ],
   "source": []
  },
  {
   "cell_type": "code",
   "execution_count": null,
   "metadata": {},
   "outputs": [],
   "source": []
  }
 ],
 "metadata": {
  "kernelspec": {
   "display_name": "Python 3",
   "language": "python",
   "name": "python3"
  },
  "language_info": {
   "codemirror_mode": {
    "name": "ipython",
    "version": 3
   },
   "file_extension": ".py",
   "mimetype": "text/x-python",
   "name": "python",
   "nbconvert_exporter": "python",
   "pygments_lexer": "ipython3",
   "version": "3.7.3"
  }
 },
 "nbformat": 4,
 "nbformat_minor": 2
}
